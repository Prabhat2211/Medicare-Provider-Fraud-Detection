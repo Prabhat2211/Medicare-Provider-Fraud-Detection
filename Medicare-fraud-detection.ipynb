{
 "cells": [
  {
   "cell_type": "markdown",
   "id": "7f9580e3-cfa6-4561-836d-c59b1a2210e1",
   "metadata": {},
   "source": [
    "## Importing Libraries"
   ]
  },
  {
   "cell_type": "code",
   "execution_count": 1,
   "id": "72c82664-4214-493f-94a9-197a7c29bcdf",
   "metadata": {},
   "outputs": [],
   "source": [
    "import pandas as pd \n",
    "import numpy as np\n",
    "import os\n",
    "import matplotlib.pyplot as plt\n",
    "from dateutil.relativedelta import relativedelta\n",
    "import datetime\n",
    "from datetime import date"
   ]
  },
  {
   "cell_type": "markdown",
   "id": "9e276bc6-1e10-48cb-bc08-b8eb24ab3bd8",
   "metadata": {},
   "source": [
    "## Importing data"
   ]
  },
  {
   "cell_type": "code",
   "execution_count": 2,
   "id": "64bad1e3-3a5c-42e0-8e1e-1548999075b3",
   "metadata": {},
   "outputs": [
    {
     "data": {
      "text/plain": [
       "'/Users/prabhatvashishth/Desktop/Projects/Arya'"
      ]
     },
     "execution_count": 2,
     "metadata": {},
     "output_type": "execute_result"
    }
   ],
   "source": [
    "os.getcwd()"
   ]
  },
  {
   "cell_type": "code",
   "execution_count": 3,
   "id": "f26627dd-e9d1-43dd-8db6-e9a2338e72af",
   "metadata": {},
   "outputs": [],
   "source": [
    "#train data\n",
    "df_ben = pd.read_csv('Medicare-Fraud-Detection-DS/Train_Beneficiarydata-1542865627584.csv')\n",
    "df_out = pd.read_csv('Medicare-Fraud-Detection-DS/Train_Outpatientdata-1542865627584.csv')\n",
    "df_in = pd.read_csv('Medicare-Fraud-Detection-DS/Train_Inpatientdata-1542865627584.csv')\n",
    "df_n = pd.read_csv('Medicare-Fraud-Detection-DS/Train-1542865627584.csv')\n",
    "\n",
    "#test data\n",
    "df_ben_test = pd.read_csv('Medicare-Fraud-Detection-DS/Test_Beneficiarydata-1542969243754.csv')\n",
    "df_out_test = pd.read_csv('Medicare-Fraud-Detection-DS/Test_Outpatientdata-1542969243754.csv')\n",
    "df_in_test = pd.read_csv('Medicare-Fraud-Detection-DS/Test_Inpatientdata-1542969243754.csv')\n",
    "df_test = pd.read_csv('Medicare-Fraud-Detection-DS/Test-1542969243754.csv')"
   ]
  },
  {
   "cell_type": "markdown",
   "id": "f2457678-c387-4fa6-bf04-099dbfaa35d0",
   "metadata": {},
   "source": [
    "## Beneficiary Data EDA"
   ]
  },
  {
   "cell_type": "code",
   "execution_count": 4,
   "id": "351fa313-1717-4e01-abb6-b974cb94f872",
   "metadata": {},
   "outputs": [
    {
     "name": "stdout",
     "output_type": "stream",
     "text": [
      "(138556, 25) (63968, 25)\n"
     ]
    },
    {
     "data": {
      "text/html": [
       "<div>\n",
       "<style scoped>\n",
       "    .dataframe tbody tr th:only-of-type {\n",
       "        vertical-align: middle;\n",
       "    }\n",
       "\n",
       "    .dataframe tbody tr th {\n",
       "        vertical-align: top;\n",
       "    }\n",
       "\n",
       "    .dataframe thead th {\n",
       "        text-align: right;\n",
       "    }\n",
       "</style>\n",
       "<table border=\"1\" class=\"dataframe\">\n",
       "  <thead>\n",
       "    <tr style=\"text-align: right;\">\n",
       "      <th></th>\n",
       "      <th>BeneID</th>\n",
       "      <th>DOB</th>\n",
       "      <th>DOD</th>\n",
       "      <th>Gender</th>\n",
       "      <th>Race</th>\n",
       "      <th>RenalDiseaseIndicator</th>\n",
       "      <th>State</th>\n",
       "      <th>County</th>\n",
       "      <th>NoOfMonths_PartACov</th>\n",
       "      <th>NoOfMonths_PartBCov</th>\n",
       "      <th>...</th>\n",
       "      <th>ChronicCond_Depression</th>\n",
       "      <th>ChronicCond_Diabetes</th>\n",
       "      <th>ChronicCond_IschemicHeart</th>\n",
       "      <th>ChronicCond_Osteoporasis</th>\n",
       "      <th>ChronicCond_rheumatoidarthritis</th>\n",
       "      <th>ChronicCond_stroke</th>\n",
       "      <th>IPAnnualReimbursementAmt</th>\n",
       "      <th>IPAnnualDeductibleAmt</th>\n",
       "      <th>OPAnnualReimbursementAmt</th>\n",
       "      <th>OPAnnualDeductibleAmt</th>\n",
       "    </tr>\n",
       "  </thead>\n",
       "  <tbody>\n",
       "    <tr>\n",
       "      <th>0</th>\n",
       "      <td>BENE11001</td>\n",
       "      <td>1943-01-01</td>\n",
       "      <td>NaN</td>\n",
       "      <td>1</td>\n",
       "      <td>1</td>\n",
       "      <td>0</td>\n",
       "      <td>39</td>\n",
       "      <td>230</td>\n",
       "      <td>12</td>\n",
       "      <td>12</td>\n",
       "      <td>...</td>\n",
       "      <td>1</td>\n",
       "      <td>1</td>\n",
       "      <td>1</td>\n",
       "      <td>2</td>\n",
       "      <td>1</td>\n",
       "      <td>1</td>\n",
       "      <td>36000</td>\n",
       "      <td>3204</td>\n",
       "      <td>60</td>\n",
       "      <td>70</td>\n",
       "    </tr>\n",
       "    <tr>\n",
       "      <th>1</th>\n",
       "      <td>BENE11002</td>\n",
       "      <td>1936-09-01</td>\n",
       "      <td>NaN</td>\n",
       "      <td>2</td>\n",
       "      <td>1</td>\n",
       "      <td>0</td>\n",
       "      <td>39</td>\n",
       "      <td>280</td>\n",
       "      <td>12</td>\n",
       "      <td>12</td>\n",
       "      <td>...</td>\n",
       "      <td>2</td>\n",
       "      <td>2</td>\n",
       "      <td>2</td>\n",
       "      <td>2</td>\n",
       "      <td>2</td>\n",
       "      <td>2</td>\n",
       "      <td>0</td>\n",
       "      <td>0</td>\n",
       "      <td>30</td>\n",
       "      <td>50</td>\n",
       "    </tr>\n",
       "  </tbody>\n",
       "</table>\n",
       "<p>2 rows × 25 columns</p>\n",
       "</div>"
      ],
      "text/plain": [
       "      BeneID         DOB  DOD  Gender  Race RenalDiseaseIndicator  State  \\\n",
       "0  BENE11001  1943-01-01  NaN       1     1                     0     39   \n",
       "1  BENE11002  1936-09-01  NaN       2     1                     0     39   \n",
       "\n",
       "   County  NoOfMonths_PartACov  NoOfMonths_PartBCov  ...  \\\n",
       "0     230                   12                   12  ...   \n",
       "1     280                   12                   12  ...   \n",
       "\n",
       "   ChronicCond_Depression  ChronicCond_Diabetes  ChronicCond_IschemicHeart  \\\n",
       "0                       1                     1                          1   \n",
       "1                       2                     2                          2   \n",
       "\n",
       "   ChronicCond_Osteoporasis  ChronicCond_rheumatoidarthritis  \\\n",
       "0                         2                                1   \n",
       "1                         2                                2   \n",
       "\n",
       "   ChronicCond_stroke  IPAnnualReimbursementAmt  IPAnnualDeductibleAmt  \\\n",
       "0                   1                     36000                   3204   \n",
       "1                   2                         0                      0   \n",
       "\n",
       "   OPAnnualReimbursementAmt  OPAnnualDeductibleAmt  \n",
       "0                        60                     70  \n",
       "1                        30                     50  \n",
       "\n",
       "[2 rows x 25 columns]"
      ]
     },
     "execution_count": 4,
     "metadata": {},
     "output_type": "execute_result"
    }
   ],
   "source": [
    "print(df_ben.shape, df_ben_test.shape)\n",
    "df_ben.head(2)"
   ]
  },
  {
   "cell_type": "code",
   "execution_count": 5,
   "id": "06bda332-95f2-4872-a3ee-10a1c08d1447",
   "metadata": {},
   "outputs": [
    {
     "name": "stdout",
     "output_type": "stream",
     "text": [
      "<class 'pandas.core.frame.DataFrame'>\n",
      "RangeIndex: 138556 entries, 0 to 138555\n",
      "Data columns (total 25 columns):\n",
      " #   Column                           Non-Null Count   Dtype \n",
      "---  ------                           --------------   ----- \n",
      " 0   BeneID                           138556 non-null  object\n",
      " 1   DOB                              138556 non-null  object\n",
      " 2   DOD                              1421 non-null    object\n",
      " 3   Gender                           138556 non-null  int64 \n",
      " 4   Race                             138556 non-null  int64 \n",
      " 5   RenalDiseaseIndicator            138556 non-null  object\n",
      " 6   State                            138556 non-null  int64 \n",
      " 7   County                           138556 non-null  int64 \n",
      " 8   NoOfMonths_PartACov              138556 non-null  int64 \n",
      " 9   NoOfMonths_PartBCov              138556 non-null  int64 \n",
      " 10  ChronicCond_Alzheimer            138556 non-null  int64 \n",
      " 11  ChronicCond_Heartfailure         138556 non-null  int64 \n",
      " 12  ChronicCond_KidneyDisease        138556 non-null  int64 \n",
      " 13  ChronicCond_Cancer               138556 non-null  int64 \n",
      " 14  ChronicCond_ObstrPulmonary       138556 non-null  int64 \n",
      " 15  ChronicCond_Depression           138556 non-null  int64 \n",
      " 16  ChronicCond_Diabetes             138556 non-null  int64 \n",
      " 17  ChronicCond_IschemicHeart        138556 non-null  int64 \n",
      " 18  ChronicCond_Osteoporasis         138556 non-null  int64 \n",
      " 19  ChronicCond_rheumatoidarthritis  138556 non-null  int64 \n",
      " 20  ChronicCond_stroke               138556 non-null  int64 \n",
      " 21  IPAnnualReimbursementAmt         138556 non-null  int64 \n",
      " 22  IPAnnualDeductibleAmt            138556 non-null  int64 \n",
      " 23  OPAnnualReimbursementAmt         138556 non-null  int64 \n",
      " 24  OPAnnualDeductibleAmt            138556 non-null  int64 \n",
      "dtypes: int64(21), object(4)\n",
      "memory usage: 26.4+ MB\n"
     ]
    }
   ],
   "source": [
    "df_ben.info()"
   ]
  },
  {
   "cell_type": "code",
   "execution_count": 6,
   "id": "370cee88-60ff-463b-9f98-1d840b404c01",
   "metadata": {},
   "outputs": [
    {
     "data": {
      "text/plain": [
       "<Axes: ylabel='Frequency'>"
      ]
     },
     "execution_count": 6,
     "metadata": {},
     "output_type": "execute_result"
    },
    {
     "data": {
      "image/png": "[encoded data removed]",
      "text/plain": [
       "<Figure size 640x480 with 1 Axes>"
      ]
     },
     "metadata": {},
     "output_type": "display_data"
    }
   ],
   "source": [
    "df_ben['IPAnnualReimbursementAmt'].plot(kind = 'hist')"
   ]
  },
  {
   "cell_type": "code",
   "execution_count": 7,
   "id": "54080feb-a33d-43bf-8a75-5e1d6cbb10e0",
   "metadata": {},
   "outputs": [
    {
     "data": {
      "text/plain": [
       "<Axes: ylabel='Frequency'>"
      ]
     },
     "execution_count": 7,
     "metadata": {},
     "output_type": "execute_result"
    },
    {
     "data": {
      "image/png": "[encoded data removed]",
      "text/plain": [
       "<Figure size 640x480 with 1 Axes>"
      ]
     },
     "metadata": {},
     "output_type": "display_data"
    }
   ],
   "source": [
    "df_ben['OPAnnualDeductibleAmt'].plot(kind = 'hist')"
   ]
  },
  {
   "cell_type": "markdown",
   "id": "b0cb45d0-eb9d-47cb-b0c2-59a2d04241b4",
   "metadata": {},
   "source": [
    "## In-paitient & Out-paitient Data EDA"
   ]
  },
  {
   "cell_type": "code",
   "execution_count": 8,
   "id": "547ba4fd-3745-4098-8f3e-031e39c4e406",
   "metadata": {},
   "outputs": [
    {
     "name": "stdout",
     "output_type": "stream",
     "text": [
      "(40474, 30) (9551, 30)\n"
     ]
    },
    {
     "data": {
      "text/html": [
       "<div>\n",
       "<style scoped>\n",
       "    .dataframe tbody tr th:only-of-type {\n",
       "        vertical-align: middle;\n",
       "    }\n",
       "\n",
       "    .dataframe tbody tr th {\n",
       "        vertical-align: top;\n",
       "    }\n",
       "\n",
       "    .dataframe thead th {\n",
       "        text-align: right;\n",
       "    }\n",
       "</style>\n",
       "<table border=\"1\" class=\"dataframe\">\n",
       "  <thead>\n",
       "    <tr style=\"text-align: right;\">\n",
       "      <th></th>\n",
       "      <th>BeneID</th>\n",
       "      <th>ClaimID</th>\n",
       "      <th>ClaimStartDt</th>\n",
       "      <th>ClaimEndDt</th>\n",
       "      <th>Provider</th>\n",
       "      <th>InscClaimAmtReimbursed</th>\n",
       "      <th>AttendingPhysician</th>\n",
       "      <th>OperatingPhysician</th>\n",
       "      <th>OtherPhysician</th>\n",
       "      <th>AdmissionDt</th>\n",
       "      <th>...</th>\n",
       "      <th>ClmDiagnosisCode_7</th>\n",
       "      <th>ClmDiagnosisCode_8</th>\n",
       "      <th>ClmDiagnosisCode_9</th>\n",
       "      <th>ClmDiagnosisCode_10</th>\n",
       "      <th>ClmProcedureCode_1</th>\n",
       "      <th>ClmProcedureCode_2</th>\n",
       "      <th>ClmProcedureCode_3</th>\n",
       "      <th>ClmProcedureCode_4</th>\n",
       "      <th>ClmProcedureCode_5</th>\n",
       "      <th>ClmProcedureCode_6</th>\n",
       "    </tr>\n",
       "  </thead>\n",
       "  <tbody>\n",
       "    <tr>\n",
       "      <th>0</th>\n",
       "      <td>BENE11001</td>\n",
       "      <td>CLM46614</td>\n",
       "      <td>2009-04-12</td>\n",
       "      <td>2009-04-18</td>\n",
       "      <td>PRV55912</td>\n",
       "      <td>26000</td>\n",
       "      <td>PHY390922</td>\n",
       "      <td>NaN</td>\n",
       "      <td>NaN</td>\n",
       "      <td>2009-04-12</td>\n",
       "      <td>...</td>\n",
       "      <td>2724</td>\n",
       "      <td>19889</td>\n",
       "      <td>5849</td>\n",
       "      <td>NaN</td>\n",
       "      <td>NaN</td>\n",
       "      <td>NaN</td>\n",
       "      <td>NaN</td>\n",
       "      <td>NaN</td>\n",
       "      <td>NaN</td>\n",
       "      <td>NaN</td>\n",
       "    </tr>\n",
       "    <tr>\n",
       "      <th>1</th>\n",
       "      <td>BENE11001</td>\n",
       "      <td>CLM66048</td>\n",
       "      <td>2009-08-31</td>\n",
       "      <td>2009-09-02</td>\n",
       "      <td>PRV55907</td>\n",
       "      <td>5000</td>\n",
       "      <td>PHY318495</td>\n",
       "      <td>PHY318495</td>\n",
       "      <td>NaN</td>\n",
       "      <td>2009-08-31</td>\n",
       "      <td>...</td>\n",
       "      <td>NaN</td>\n",
       "      <td>NaN</td>\n",
       "      <td>NaN</td>\n",
       "      <td>NaN</td>\n",
       "      <td>7092.0</td>\n",
       "      <td>NaN</td>\n",
       "      <td>NaN</td>\n",
       "      <td>NaN</td>\n",
       "      <td>NaN</td>\n",
       "      <td>NaN</td>\n",
       "    </tr>\n",
       "  </tbody>\n",
       "</table>\n",
       "<p>2 rows × 30 columns</p>\n",
       "</div>"
      ],
      "text/plain": [
       "      BeneID   ClaimID ClaimStartDt  ClaimEndDt  Provider  \\\n",
       "0  BENE11001  CLM46614   2009-04-12  2009-04-18  PRV55912   \n",
       "1  BENE11001  CLM66048   2009-08-31  2009-09-02  PRV55907   \n",
       "\n",
       "   InscClaimAmtReimbursed AttendingPhysician OperatingPhysician  \\\n",
       "0                   26000          PHY390922                NaN   \n",
       "1                    5000          PHY318495          PHY318495   \n",
       "\n",
       "  OtherPhysician AdmissionDt  ... ClmDiagnosisCode_7  ClmDiagnosisCode_8  \\\n",
       "0            NaN  2009-04-12  ...               2724               19889   \n",
       "1            NaN  2009-08-31  ...                NaN                 NaN   \n",
       "\n",
       "  ClmDiagnosisCode_9 ClmDiagnosisCode_10 ClmProcedureCode_1  \\\n",
       "0               5849                 NaN                NaN   \n",
       "1                NaN                 NaN             7092.0   \n",
       "\n",
       "  ClmProcedureCode_2 ClmProcedureCode_3 ClmProcedureCode_4 ClmProcedureCode_5  \\\n",
       "0                NaN                NaN                NaN                NaN   \n",
       "1                NaN                NaN                NaN                NaN   \n",
       "\n",
       "  ClmProcedureCode_6  \n",
       "0                NaN  \n",
       "1                NaN  \n",
       "\n",
       "[2 rows x 30 columns]"
      ]
     },
     "execution_count": 8,
     "metadata": {},
     "output_type": "execute_result"
    }
   ],
   "source": [
    "print(df_in.shape, df_in_test.shape)\n",
    "df_in.head(2)"
   ]
  },
  {
   "cell_type": "code",
   "execution_count": 9,
   "id": "45806a41-2b09-4b56-b7a5-fcc3f5a337d9",
   "metadata": {},
   "outputs": [
    {
     "name": "stdout",
     "output_type": "stream",
     "text": [
      "<class 'pandas.core.frame.DataFrame'>\n",
      "RangeIndex: 40474 entries, 0 to 40473\n",
      "Data columns (total 30 columns):\n",
      " #   Column                  Non-Null Count  Dtype  \n",
      "---  ------                  --------------  -----  \n",
      " 0   BeneID                  40474 non-null  object \n",
      " 1   ClaimID                 40474 non-null  object \n",
      " 2   ClaimStartDt            40474 non-null  object \n",
      " 3   ClaimEndDt              40474 non-null  object \n",
      " 4   Provider                40474 non-null  object \n",
      " 5   InscClaimAmtReimbursed  40474 non-null  int64  \n",
      " 6   AttendingPhysician      40362 non-null  object \n",
      " 7   OperatingPhysician      23830 non-null  object \n",
      " 8   OtherPhysician          4690 non-null   object \n",
      " 9   AdmissionDt             40474 non-null  object \n",
      " 10  ClmAdmitDiagnosisCode   40474 non-null  object \n",
      " 11  DeductibleAmtPaid       39575 non-null  float64\n",
      " 12  DischargeDt             40474 non-null  object \n",
      " 13  DiagnosisGroupCode      40474 non-null  object \n",
      " 14  ClmDiagnosisCode_1      40474 non-null  object \n",
      " 15  ClmDiagnosisCode_2      40248 non-null  object \n",
      " 16  ClmDiagnosisCode_3      39798 non-null  object \n",
      " 17  ClmDiagnosisCode_4      38940 non-null  object \n",
      " 18  ClmDiagnosisCode_5      37580 non-null  object \n",
      " 19  ClmDiagnosisCode_6      35636 non-null  object \n",
      " 20  ClmDiagnosisCode_7      33216 non-null  object \n",
      " 21  ClmDiagnosisCode_8      30532 non-null  object \n",
      " 22  ClmDiagnosisCode_9      26977 non-null  object \n",
      " 23  ClmDiagnosisCode_10     3927 non-null   object \n",
      " 24  ClmProcedureCode_1      23148 non-null  float64\n",
      " 25  ClmProcedureCode_2      5454 non-null   float64\n",
      " 26  ClmProcedureCode_3      965 non-null    float64\n",
      " 27  ClmProcedureCode_4      116 non-null    float64\n",
      " 28  ClmProcedureCode_5      9 non-null      float64\n",
      " 29  ClmProcedureCode_6      0 non-null      float64\n",
      "dtypes: float64(7), int64(1), object(22)\n",
      "memory usage: 9.3+ MB\n"
     ]
    }
   ],
   "source": [
    "df_in.info()"
   ]
  },
  {
   "cell_type": "code",
   "execution_count": 10,
   "id": "7b5187c5-e83b-4521-b282-19c6fadc067e",
   "metadata": {},
   "outputs": [
    {
     "data": {
      "text/plain": [
       "2092"
      ]
     },
     "execution_count": 10,
     "metadata": {},
     "output_type": "execute_result"
    }
   ],
   "source": [
    "df_in['Provider'].nunique()"
   ]
  },
  {
   "cell_type": "code",
   "execution_count": 11,
   "id": "52302396-53c3-4054-8667-4eb34289c382",
   "metadata": {},
   "outputs": [
    {
     "name": "stdout",
     "output_type": "stream",
     "text": [
      "(517737, 27) (125841, 27)\n"
     ]
    },
    {
     "data": {
      "text/html": [
       "<div>\n",
       "<style scoped>\n",
       "    .dataframe tbody tr th:only-of-type {\n",
       "        vertical-align: middle;\n",
       "    }\n",
       "\n",
       "    .dataframe tbody tr th {\n",
       "        vertical-align: top;\n",
       "    }\n",
       "\n",
       "    .dataframe thead th {\n",
       "        text-align: right;\n",
       "    }\n",
       "</style>\n",
       "<table border=\"1\" class=\"dataframe\">\n",
       "  <thead>\n",
       "    <tr style=\"text-align: right;\">\n",
       "      <th></th>\n",
       "      <th>BeneID</th>\n",
       "      <th>ClaimID</th>\n",
       "      <th>ClaimStartDt</th>\n",
       "      <th>ClaimEndDt</th>\n",
       "      <th>Provider</th>\n",
       "      <th>InscClaimAmtReimbursed</th>\n",
       "      <th>AttendingPhysician</th>\n",
       "      <th>OperatingPhysician</th>\n",
       "      <th>OtherPhysician</th>\n",
       "      <th>ClmDiagnosisCode_1</th>\n",
       "      <th>...</th>\n",
       "      <th>ClmDiagnosisCode_9</th>\n",
       "      <th>ClmDiagnosisCode_10</th>\n",
       "      <th>ClmProcedureCode_1</th>\n",
       "      <th>ClmProcedureCode_2</th>\n",
       "      <th>ClmProcedureCode_3</th>\n",
       "      <th>ClmProcedureCode_4</th>\n",
       "      <th>ClmProcedureCode_5</th>\n",
       "      <th>ClmProcedureCode_6</th>\n",
       "      <th>DeductibleAmtPaid</th>\n",
       "      <th>ClmAdmitDiagnosisCode</th>\n",
       "    </tr>\n",
       "  </thead>\n",
       "  <tbody>\n",
       "    <tr>\n",
       "      <th>0</th>\n",
       "      <td>BENE11002</td>\n",
       "      <td>CLM624349</td>\n",
       "      <td>2009-10-11</td>\n",
       "      <td>2009-10-11</td>\n",
       "      <td>PRV56011</td>\n",
       "      <td>30</td>\n",
       "      <td>PHY326117</td>\n",
       "      <td>NaN</td>\n",
       "      <td>NaN</td>\n",
       "      <td>78943</td>\n",
       "      <td>...</td>\n",
       "      <td>NaN</td>\n",
       "      <td>NaN</td>\n",
       "      <td>NaN</td>\n",
       "      <td>NaN</td>\n",
       "      <td>NaN</td>\n",
       "      <td>NaN</td>\n",
       "      <td>NaN</td>\n",
       "      <td>NaN</td>\n",
       "      <td>0</td>\n",
       "      <td>56409</td>\n",
       "    </tr>\n",
       "    <tr>\n",
       "      <th>1</th>\n",
       "      <td>BENE11003</td>\n",
       "      <td>CLM189947</td>\n",
       "      <td>2009-02-12</td>\n",
       "      <td>2009-02-12</td>\n",
       "      <td>PRV57610</td>\n",
       "      <td>80</td>\n",
       "      <td>PHY362868</td>\n",
       "      <td>NaN</td>\n",
       "      <td>NaN</td>\n",
       "      <td>6115</td>\n",
       "      <td>...</td>\n",
       "      <td>NaN</td>\n",
       "      <td>NaN</td>\n",
       "      <td>NaN</td>\n",
       "      <td>NaN</td>\n",
       "      <td>NaN</td>\n",
       "      <td>NaN</td>\n",
       "      <td>NaN</td>\n",
       "      <td>NaN</td>\n",
       "      <td>0</td>\n",
       "      <td>79380</td>\n",
       "    </tr>\n",
       "  </tbody>\n",
       "</table>\n",
       "<p>2 rows × 27 columns</p>\n",
       "</div>"
      ],
      "text/plain": [
       "      BeneID    ClaimID ClaimStartDt  ClaimEndDt  Provider  \\\n",
       "0  BENE11002  CLM624349   2009-10-11  2009-10-11  PRV56011   \n",
       "1  BENE11003  CLM189947   2009-02-12  2009-02-12  PRV57610   \n",
       "\n",
       "   InscClaimAmtReimbursed AttendingPhysician OperatingPhysician  \\\n",
       "0                      30          PHY326117                NaN   \n",
       "1                      80          PHY362868                NaN   \n",
       "\n",
       "  OtherPhysician ClmDiagnosisCode_1  ... ClmDiagnosisCode_9  \\\n",
       "0            NaN              78943  ...                NaN   \n",
       "1            NaN               6115  ...                NaN   \n",
       "\n",
       "  ClmDiagnosisCode_10 ClmProcedureCode_1 ClmProcedureCode_2  \\\n",
       "0                 NaN                NaN                NaN   \n",
       "1                 NaN                NaN                NaN   \n",
       "\n",
       "  ClmProcedureCode_3 ClmProcedureCode_4 ClmProcedureCode_5 ClmProcedureCode_6  \\\n",
       "0                NaN                NaN                NaN                NaN   \n",
       "1                NaN                NaN                NaN                NaN   \n",
       "\n",
       "  DeductibleAmtPaid  ClmAdmitDiagnosisCode  \n",
       "0                 0                  56409  \n",
       "1                 0                  79380  \n",
       "\n",
       "[2 rows x 27 columns]"
      ]
     },
     "execution_count": 11,
     "metadata": {},
     "output_type": "execute_result"
    }
   ],
   "source": [
    "print(df_out.shape, df_out_test.shape)\n",
    "df_out.head(2)"
   ]
  },
  {
   "cell_type": "code",
   "execution_count": 12,
   "id": "25479350-ab22-4fd8-9061-860dd2bb1e29",
   "metadata": {},
   "outputs": [
    {
     "name": "stdout",
     "output_type": "stream",
     "text": [
      "<class 'pandas.core.frame.DataFrame'>\n",
      "RangeIndex: 517737 entries, 0 to 517736\n",
      "Data columns (total 27 columns):\n",
      " #   Column                  Non-Null Count   Dtype  \n",
      "---  ------                  --------------   -----  \n",
      " 0   BeneID                  517737 non-null  object \n",
      " 1   ClaimID                 517737 non-null  object \n",
      " 2   ClaimStartDt            517737 non-null  object \n",
      " 3   ClaimEndDt              517737 non-null  object \n",
      " 4   Provider                517737 non-null  object \n",
      " 5   InscClaimAmtReimbursed  517737 non-null  int64  \n",
      " 6   AttendingPhysician      516341 non-null  object \n",
      " 7   OperatingPhysician      90617 non-null   object \n",
      " 8   OtherPhysician          195046 non-null  object \n",
      " 9   ClmDiagnosisCode_1      507284 non-null  object \n",
      " 10  ClmDiagnosisCode_2      322357 non-null  object \n",
      " 11  ClmDiagnosisCode_3      203257 non-null  object \n",
      " 12  ClmDiagnosisCode_4      125596 non-null  object \n",
      " 13  ClmDiagnosisCode_5      74344 non-null   object \n",
      " 14  ClmDiagnosisCode_6      48756 non-null   object \n",
      " 15  ClmDiagnosisCode_7      32961 non-null   object \n",
      " 16  ClmDiagnosisCode_8      22912 non-null   object \n",
      " 17  ClmDiagnosisCode_9      14838 non-null   object \n",
      " 18  ClmDiagnosisCode_10     1083 non-null    object \n",
      " 19  ClmProcedureCode_1      162 non-null     float64\n",
      " 20  ClmProcedureCode_2      36 non-null      float64\n",
      " 21  ClmProcedureCode_3      4 non-null       float64\n",
      " 22  ClmProcedureCode_4      2 non-null       float64\n",
      " 23  ClmProcedureCode_5      0 non-null       float64\n",
      " 24  ClmProcedureCode_6      0 non-null       float64\n",
      " 25  DeductibleAmtPaid       517737 non-null  int64  \n",
      " 26  ClmAdmitDiagnosisCode   105425 non-null  object \n",
      "dtypes: float64(6), int64(2), object(19)\n",
      "memory usage: 106.7+ MB\n"
     ]
    }
   ],
   "source": [
    "df_out.info()"
   ]
  },
  {
   "cell_type": "code",
   "execution_count": 13,
   "id": "cda185cb-1163-4aa7-9877-6e412293cbbb",
   "metadata": {},
   "outputs": [
    {
     "data": {
      "text/plain": [
       "5012"
      ]
     },
     "execution_count": 13,
     "metadata": {},
     "output_type": "execute_result"
    }
   ],
   "source": [
    "df_out['Provider'].nunique()"
   ]
  },
  {
   "cell_type": "code",
   "execution_count": 14,
   "id": "73088f8a-1b42-4d6b-bdce-8e65916d9838",
   "metadata": {},
   "outputs": [],
   "source": [
    "#flag for in-paitient and out-paitient \n",
    "df_in['Admitted'] = 1\n",
    "df_out['Admitted'] = 0\n",
    "\n",
    "df_in_test['Admitted'] = 1\n",
    "df_out_test['Admitted'] = 0"
   ]
  },
  {
   "cell_type": "code",
   "execution_count": 15,
   "id": "9c4dfafc-8172-4f1e-8d97-4c579d340ceb",
   "metadata": {},
   "outputs": [
    {
     "name": "stdout",
     "output_type": "stream",
     "text": [
      "28 28\n"
     ]
    }
   ],
   "source": [
    "common_cols = [col for col in df_out.columns if col in df_in.columns]\n",
    "common_cols_test = [col for col in df_out_test.columns if col in df_in_test.columns]\n",
    "print(len(common_cols), len(common_cols_test))"
   ]
  },
  {
   "cell_type": "code",
   "execution_count": 16,
   "id": "821cc321-3ac6-4a16-b661-6dcbeb46c0a4",
   "metadata": {},
   "outputs": [
    {
     "data": {
      "text/plain": [
       "((558211, 31), (135392, 31))"
      ]
     },
     "execution_count": 16,
     "metadata": {},
     "output_type": "execute_result"
    }
   ],
   "source": [
    "df1 = df_in.merge(df_out, on = common_cols, how = 'outer')\n",
    "df1_test = df_in_test.merge(df_out_test, on = common_cols, how = 'outer')\n",
    "df1.shape, df1_test.shape"
   ]
  },
  {
   "cell_type": "markdown",
   "id": "83db8f5c-f2b6-4c5b-8ec2-b888979e7f2d",
   "metadata": {},
   "source": [
    "## Target Labels EDA"
   ]
  },
  {
   "cell_type": "code",
   "execution_count": 17,
   "id": "5f8f7518-b941-41d4-868e-c41322a43e26",
   "metadata": {},
   "outputs": [
    {
     "name": "stdout",
     "output_type": "stream",
     "text": [
      "(5410, 2) (1353, 1)\n"
     ]
    },
    {
     "data": {
      "text/html": [
       "<div>\n",
       "<style scoped>\n",
       "    .dataframe tbody tr th:only-of-type {\n",
       "        vertical-align: middle;\n",
       "    }\n",
       "\n",
       "    .dataframe tbody tr th {\n",
       "        vertical-align: top;\n",
       "    }\n",
       "\n",
       "    .dataframe thead th {\n",
       "        text-align: right;\n",
       "    }\n",
       "</style>\n",
       "<table border=\"1\" class=\"dataframe\">\n",
       "  <thead>\n",
       "    <tr style=\"text-align: right;\">\n",
       "      <th></th>\n",
       "      <th>Provider</th>\n",
       "      <th>PotentialFraud</th>\n",
       "    </tr>\n",
       "  </thead>\n",
       "  <tbody>\n",
       "    <tr>\n",
       "      <th>0</th>\n",
       "      <td>PRV51001</td>\n",
       "      <td>No</td>\n",
       "    </tr>\n",
       "    <tr>\n",
       "      <th>1</th>\n",
       "      <td>PRV51003</td>\n",
       "      <td>Yes</td>\n",
       "    </tr>\n",
       "  </tbody>\n",
       "</table>\n",
       "</div>"
      ],
      "text/plain": [
       "   Provider PotentialFraud\n",
       "0  PRV51001             No\n",
       "1  PRV51003            Yes"
      ]
     },
     "execution_count": 17,
     "metadata": {},
     "output_type": "execute_result"
    }
   ],
   "source": [
    "print(df_n.shape, df_test.shape)\n",
    "df_n.head(2)"
   ]
  },
  {
   "cell_type": "code",
   "execution_count": 18,
   "id": "86726ea2-8689-40ca-9b7f-7d80a3fd9683",
   "metadata": {},
   "outputs": [
    {
     "name": "stdout",
     "output_type": "stream",
     "text": [
      "<class 'pandas.core.frame.DataFrame'>\n",
      "RangeIndex: 5410 entries, 0 to 5409\n",
      "Data columns (total 2 columns):\n",
      " #   Column          Non-Null Count  Dtype \n",
      "---  ------          --------------  ----- \n",
      " 0   Provider        5410 non-null   object\n",
      " 1   PotentialFraud  5410 non-null   object\n",
      "dtypes: object(2)\n",
      "memory usage: 84.7+ KB\n"
     ]
    }
   ],
   "source": [
    "df_n.info()"
   ]
  },
  {
   "cell_type": "code",
   "execution_count": 19,
   "id": "23a298ea-d837-4ee7-a2ff-b36e4f665a77",
   "metadata": {},
   "outputs": [
    {
     "data": {
      "text/plain": [
       "PotentialFraud\n",
       "No     4904\n",
       "Yes     506\n",
       "Name: count, dtype: int64"
      ]
     },
     "execution_count": 19,
     "metadata": {},
     "output_type": "execute_result"
    }
   ],
   "source": [
    "df_n['PotentialFraud'].value_counts()"
   ]
  },
  {
   "cell_type": "code",
   "execution_count": 20,
   "id": "2f8461cc-4df5-4fcd-91dd-a583f009d9e8",
   "metadata": {},
   "outputs": [
    {
     "data": {
      "text/plain": [
       "PotentialFraud\n",
       "No     0.90647\n",
       "Yes    0.09353\n",
       "Name: proportion, dtype: float64"
      ]
     },
     "execution_count": 20,
     "metadata": {},
     "output_type": "execute_result"
    }
   ],
   "source": [
    "df_n['PotentialFraud'].value_counts(normalize=True)"
   ]
  },
  {
   "cell_type": "code",
   "execution_count": 21,
   "id": "b07744a5-12fe-403a-93a6-e5298b774bbb",
   "metadata": {},
   "outputs": [
    {
     "data": {
      "text/plain": [
       "((558211, 55), (135392, 55))"
      ]
     },
     "execution_count": 21,
     "metadata": {},
     "output_type": "execute_result"
    }
   ],
   "source": [
    "df2 = df1.merge(df_ben , on ='BeneID', how='inner')\n",
    "df2_test = df1_test.merge(df_ben_test , on ='BeneID', how='inner')\n",
    "df2.shape, df2_test.shape"
   ]
  },
  {
   "cell_type": "code",
   "execution_count": 22,
   "id": "de182328-9f29-45e3-a961-3d7d7bd7de78",
   "metadata": {},
   "outputs": [
    {
     "data": {
      "text/plain": [
       "((558211, 56), (135392, 55))"
      ]
     },
     "execution_count": 22,
     "metadata": {},
     "output_type": "execute_result"
    }
   ],
   "source": [
    "df = df2.merge(df_n, on='Provider', how = 'inner')\n",
    "df_test = df2_test.merge(df_test, on='Provider', how='inner')\n",
    "df.shape, df_test.shape"
   ]
  },
  {
   "cell_type": "code",
   "execution_count": 23,
   "id": "88e54545-c495-4563-b842-42581d5f38e8",
   "metadata": {},
   "outputs": [
    {
     "data": {
      "text/plain": [
       "PotentialFraud\n",
       "No     0.618789\n",
       "Yes    0.381211\n",
       "Name: proportion, dtype: float64"
      ]
     },
     "execution_count": 23,
     "metadata": {},
     "output_type": "execute_result"
    }
   ],
   "source": [
    "df['PotentialFraud'].value_counts(normalize=True)"
   ]
  },
  {
   "cell_type": "markdown",
   "id": "b4dbffe4-4a1c-453d-b0ab-21420342066e",
   "metadata": {},
   "source": [
    "## Feature Engineering"
   ]
  },
  {
   "cell_type": "code",
   "execution_count": 24,
   "id": "23eb257a-0bbf-460e-91a9-2735e22b7160",
   "metadata": {},
   "outputs": [
    {
     "name": "stderr",
     "output_type": "stream",
     "text": [
      "/var/folders/mq/r9v206b12gd772y3zfyym6pr0000gn/T/ipykernel_15568/38662415.py:6: FutureWarning: A value is trying to be set on a copy of a DataFrame or Series through chained assignment using an inplace method.\n",
      "The behavior will change in pandas 3.0. This inplace method will never work because the intermediate object on which we are setting values always behaves as a copy.\n",
      "\n",
      "For example, when doing 'df[col].method(value, inplace=True)', try using 'df.method({col: value}, inplace=True)' or df[col] = df[col].method(value) instead, to perform the operation inplace on the original object.\n",
      "\n",
      "\n",
      "  df['Age'].fillna(value = 2024 - df['DOB'].dt.year,inplace=True)\n",
      "/var/folders/mq/r9v206b12gd772y3zfyym6pr0000gn/T/ipykernel_15568/38662415.py:16: FutureWarning: A value is trying to be set on a copy of a DataFrame or Series through chained assignment using an inplace method.\n",
      "The behavior will change in pandas 3.0. This inplace method will never work because the intermediate object on which we are setting values always behaves as a copy.\n",
      "\n",
      "For example, when doing 'df[col].method(value, inplace=True)', try using 'df.method({col: value}, inplace=True)' or df[col] = df[col].method(value) instead, to perform the operation inplace on the original object.\n",
      "\n",
      "\n",
      "  df_test['Age'].fillna(value = 2024 - df_test['DOB'].dt.year,inplace=True)\n"
     ]
    },
    {
     "data": {
      "text/plain": [
       "((558211, 54), (135392, 53))"
      ]
     },
     "execution_count": 24,
     "metadata": {},
     "output_type": "execute_result"
    }
   ],
   "source": [
    "date_cols = ['ClaimStartDt' , 'ClaimEndDt','DOB','DOD','AdmissionDt','DischargeDt']\n",
    "for col in date_cols:\n",
    "    df[col] = pd.to_datetime(df[col])\n",
    "df['Claims_days'] = (df['ClaimEndDt'] - df['ClaimStartDt']).dt.days\n",
    "df['Age'] = df['DOD'].dt.year - df['DOB'].dt.year\n",
    "df['Age'].fillna(value = 2024 - df['DOB'].dt.year,inplace=True)\n",
    "df['Alive'] = np.where(df['DOD'].isnull(),1,0)\n",
    "df['Admit_days'] =  (df['DischargeDt']- df['AdmissionDt']).dt.days\n",
    "df.drop(columns = date_cols,inplace=True)\n",
    "\n",
    "date_cols = ['ClaimStartDt' , 'ClaimEndDt','DOB','DOD','AdmissionDt','DischargeDt']\n",
    "for col in date_cols:\n",
    "    df_test[col] = pd.to_datetime(df_test[col])\n",
    "df_test['Claims_days'] = (df_test['ClaimEndDt'] - df_test['ClaimStartDt']).dt.days\n",
    "df_test['Age'] = df_test['DOD'].dt.year - df_test['DOB'].dt.year\n",
    "df_test['Age'].fillna(value = 2024 - df_test['DOB'].dt.year,inplace=True)\n",
    "df_test['Alive'] = np.where(df_test['DOD'].isnull(),1,0)\n",
    "df_test['Admit_days'] =  (df_test['DischargeDt']- df_test['AdmissionDt']).dt.days\n",
    "df_test.drop(columns = date_cols,inplace=True)\n",
    "\n",
    "df.shape, df_test.shape"
   ]
  },
  {
   "cell_type": "code",
   "execution_count": 25,
   "id": "d85071fb-11d3-435a-ae6a-ec6fd66c1f98",
   "metadata": {},
   "outputs": [
    {
     "data": {
      "text/plain": [
       "((558211, 60), (135392, 59))"
      ]
     },
     "execution_count": 25,
     "metadata": {},
     "output_type": "execute_result"
    }
   ],
   "source": [
    "df[\"ClmCount_Provider\"]=df.groupby(['Provider'])['ClaimID'].transform('count')\n",
    "df[\"ClmCount_Provider_BeneID\"]=df.groupby(['Provider','BeneID'])['ClaimID'].transform('count')\n",
    "df[\"ClmCount_Provider_AttendingPhysician\"]=df.groupby(['Provider','AttendingPhysician'])['ClaimID'].transform('count')\n",
    "df[\"ClmCount_Provider_OtherPhysician\"]=df.groupby(['Provider','OtherPhysician'])['ClaimID'].transform('count')\n",
    "df[\"ClmCount_Provider_OperatingPhysician\"]=df.groupby(['Provider','OperatingPhysician'])['ClaimID'].transform('count')\n",
    "df[\"ClmCount_Provider_ClmAdmitDiagnosisCode\"]=df.groupby(['Provider','ClmAdmitDiagnosisCode'])['ClaimID'].transform('count')\n",
    "\n",
    "df_test[\"ClmCount_Provider\"]=df_test.groupby(['Provider'])['ClaimID'].transform('count')\n",
    "df_test[\"ClmCount_Provider_BeneID\"]=df_test.groupby(['Provider','BeneID'])['ClaimID'].transform('count')\n",
    "df_test[\"ClmCount_Provider_AttendingPhysician\"]=df_test.groupby(['Provider','AttendingPhysician'])['ClaimID'].transform('count')\n",
    "df_test[\"ClmCount_Provider_OtherPhysician\"]=df_test.groupby(['Provider','OtherPhysician'])['ClaimID'].transform('count')\n",
    "df_test[\"ClmCount_Provider_OperatingPhysician\"]=df_test.groupby(['Provider','OperatingPhysician'])['ClaimID'].transform('count')\n",
    "df_test[\"ClmCount_Provider_ClmAdmitDiagnosisCode\"]=df_test.groupby(['Provider','ClmAdmitDiagnosisCode'])['ClaimID'].transform('count')\n",
    "\n",
    "df.shape, df_test.shape"
   ]
  },
  {
   "cell_type": "code",
   "execution_count": 26,
   "id": "d7b524a4-87b2-4d34-9e88-393be182419f",
   "metadata": {},
   "outputs": [
    {
     "data": {
      "text/plain": [
       "((558211, 63), (135392, 62))"
      ]
     },
     "execution_count": 26,
     "metadata": {},
     "output_type": "execute_result"
    }
   ],
   "source": [
    "df[\"ClmCount_Provider_BeneID_AttendingPhysician\"]=df.groupby(['Provider','BeneID','AttendingPhysician'])['ClaimID'].transform('count')\n",
    "df[\"ClmCount_Provider_BeneID_OtherPhysician\"]=df.groupby(['Provider','BeneID','OtherPhysician'])['ClaimID'].transform('count')\n",
    "df[\"ClmCount_Provider_BeneID_OperatingPhysician\"]=df.groupby(['Provider','BeneID','OperatingPhysician'])['ClaimID'].transform('count')\n",
    "\n",
    "df_test[\"ClmCount_Provider_BeneID_AttendingPhysician\"]=df_test.groupby(['Provider','BeneID','AttendingPhysician'])['ClaimID'].transform('count')\n",
    "df_test[\"ClmCount_Provider_BeneID_OtherPhysician\"]=df_test.groupby(['Provider','BeneID','OtherPhysician'])['ClaimID'].transform('count')\n",
    "df_test[\"ClmCount_Provider_BeneID_OperatingPhysician\"]=df_test.groupby(['Provider','BeneID','OperatingPhysician'])['ClaimID'].transform('count')\n",
    "\n",
    "df.shape, df_test.shape"
   ]
  },
  {
   "cell_type": "code",
   "execution_count": 27,
   "id": "3f70deec-110d-4cbb-970e-6bf7ac247788",
   "metadata": {},
   "outputs": [
    {
     "data": {
      "text/plain": [
       "Index(['BeneID', 'ClaimID', 'Provider', 'InscClaimAmtReimbursed',\n",
       "       'AttendingPhysician', 'OperatingPhysician', 'OtherPhysician',\n",
       "       'ClmAdmitDiagnosisCode', 'DeductibleAmtPaid', 'DiagnosisGroupCode',\n",
       "       'ClmDiagnosisCode_1', 'ClmDiagnosisCode_2', 'ClmDiagnosisCode_3',\n",
       "       'ClmDiagnosisCode_4', 'ClmDiagnosisCode_5', 'ClmDiagnosisCode_6',\n",
       "       'ClmDiagnosisCode_7', 'ClmDiagnosisCode_8', 'ClmDiagnosisCode_9',\n",
       "       'ClmDiagnosisCode_10', 'ClmProcedureCode_1', 'ClmProcedureCode_2',\n",
       "       'ClmProcedureCode_3', 'ClmProcedureCode_4', 'ClmProcedureCode_5',\n",
       "       'ClmProcedureCode_6', 'Admitted', 'Gender', 'Race',\n",
       "       'RenalDiseaseIndicator', 'State', 'County', 'NoOfMonths_PartACov',\n",
       "       'NoOfMonths_PartBCov', 'ChronicCond_Alzheimer',\n",
       "       'ChronicCond_Heartfailure', 'ChronicCond_KidneyDisease',\n",
       "       'ChronicCond_Cancer', 'ChronicCond_ObstrPulmonary',\n",
       "       'ChronicCond_Depression', 'ChronicCond_Diabetes',\n",
       "       'ChronicCond_IschemicHeart', 'ChronicCond_Osteoporasis',\n",
       "       'ChronicCond_rheumatoidarthritis', 'ChronicCond_stroke',\n",
       "       'IPAnnualReimbursementAmt', 'IPAnnualDeductibleAmt',\n",
       "       'OPAnnualReimbursementAmt', 'OPAnnualDeductibleAmt', 'PotentialFraud',\n",
       "       'Claims_days', 'Age', 'Alive', 'Admit_days', 'ClmCount_Provider',\n",
       "       'ClmCount_Provider_BeneID', 'ClmCount_Provider_AttendingPhysician',\n",
       "       'ClmCount_Provider_OtherPhysician',\n",
       "       'ClmCount_Provider_OperatingPhysician',\n",
       "       'ClmCount_Provider_ClmAdmitDiagnosisCode',\n",
       "       'ClmCount_Provider_BeneID_AttendingPhysician',\n",
       "       'ClmCount_Provider_BeneID_OtherPhysician',\n",
       "       'ClmCount_Provider_BeneID_OperatingPhysician'],\n",
       "      dtype='object')"
      ]
     },
     "execution_count": 27,
     "metadata": {},
     "output_type": "execute_result"
    }
   ],
   "source": [
    "df.columns"
   ]
  },
  {
   "cell_type": "code",
   "execution_count": 28,
   "id": "e22f0d68-e199-4b1a-91e6-869dcde6828c",
   "metadata": {},
   "outputs": [
    {
     "name": "stderr",
     "output_type": "stream",
     "text": [
      "/var/folders/mq/r9v206b12gd772y3zfyym6pr0000gn/T/ipykernel_15568/1393028138.py:2: FutureWarning: Downcasting behavior in `replace` is deprecated and will be removed in a future version. To retain the old behavior, explicitly call `result.infer_objects(copy=False)`. To opt-in to the future behavior, set `pd.set_option('future.no_silent_downcasting', True)`\n",
      "  df['PotentialFraud'] = df['PotentialFraud'].replace({'Yes':1,'No':0})\n",
      "/var/folders/mq/r9v206b12gd772y3zfyym6pr0000gn/T/ipykernel_15568/1393028138.py:3: FutureWarning: Downcasting behavior in `replace` is deprecated and will be removed in a future version. To retain the old behavior, explicitly call `result.infer_objects(copy=False)`. To opt-in to the future behavior, set `pd.set_option('future.no_silent_downcasting', True)`\n",
      "  df['RenalDiseaseIndicator'] = df['RenalDiseaseIndicator'].replace({'Y':1,'0':0})\n",
      "/var/folders/mq/r9v206b12gd772y3zfyym6pr0000gn/T/ipykernel_15568/1393028138.py:6: FutureWarning: Downcasting behavior in `replace` is deprecated and will be removed in a future version. To retain the old behavior, explicitly call `result.infer_objects(copy=False)`. To opt-in to the future behavior, set `pd.set_option('future.no_silent_downcasting', True)`\n",
      "  df_test['RenalDiseaseIndicator'] = df_test['RenalDiseaseIndicator'].replace({'Y':1,'0':0})\n"
     ]
    },
    {
     "data": {
      "text/plain": [
       "((558211, 65), (135392, 64))"
      ]
     },
     "execution_count": 28,
     "metadata": {},
     "output_type": "execute_result"
    }
   ],
   "source": [
    "df = pd.get_dummies(df,columns=['Gender', 'Race'], drop_first=True)\n",
    "df['PotentialFraud'] = df['PotentialFraud'].replace({'Yes':1,'No':0})\n",
    "df['RenalDiseaseIndicator'] = df['RenalDiseaseIndicator'].replace({'Y':1,'0':0})\n",
    "\n",
    "df_test = pd.get_dummies(df_test,columns=['Gender', 'Race'], drop_first=True)\n",
    "df_test['RenalDiseaseIndicator'] = df_test['RenalDiseaseIndicator'].replace({'Y':1,'0':0})\n",
    "\n",
    "df.shape, df_test.shape"
   ]
  },
  {
   "cell_type": "code",
   "execution_count": 29,
   "id": "c7468849-cac3-44bc-b896-974326633a3b",
   "metadata": {},
   "outputs": [
    {
     "data": {
      "text/plain": [
       "((558211, 40), (135392, 39))"
      ]
     },
     "execution_count": 29,
     "metadata": {},
     "output_type": "execute_result"
    }
   ],
   "source": [
    "df.drop(columns = ['BeneID', 'ClaimID','AttendingPhysician', 'OperatingPhysician', 'OtherPhysician',\n",
    "       'ClmAdmitDiagnosisCode','DiagnosisGroupCode',\n",
    "       'ClmDiagnosisCode_1', 'ClmDiagnosisCode_2', 'ClmDiagnosisCode_3',\n",
    "       'ClmDiagnosisCode_4', 'ClmDiagnosisCode_5', 'ClmDiagnosisCode_6',\n",
    "       'ClmDiagnosisCode_7', 'ClmDiagnosisCode_8', 'ClmDiagnosisCode_9',\n",
    "       'ClmDiagnosisCode_10', 'ClmProcedureCode_1', 'ClmProcedureCode_2',\n",
    "       'ClmProcedureCode_3', 'ClmProcedureCode_4', 'ClmProcedureCode_5',\n",
    "       'ClmProcedureCode_6','State', 'County'],inplace=True)\n",
    "\n",
    "df_test.drop(columns = ['BeneID', 'ClaimID','AttendingPhysician', 'OperatingPhysician', 'OtherPhysician',\n",
    "       'ClmAdmitDiagnosisCode','DiagnosisGroupCode',\n",
    "       'ClmDiagnosisCode_1', 'ClmDiagnosisCode_2', 'ClmDiagnosisCode_3',\n",
    "       'ClmDiagnosisCode_4', 'ClmDiagnosisCode_5', 'ClmDiagnosisCode_6',\n",
    "       'ClmDiagnosisCode_7', 'ClmDiagnosisCode_8', 'ClmDiagnosisCode_9',\n",
    "       'ClmDiagnosisCode_10', 'ClmProcedureCode_1', 'ClmProcedureCode_2',\n",
    "       'ClmProcedureCode_3', 'ClmProcedureCode_4', 'ClmProcedureCode_5',\n",
    "       'ClmProcedureCode_6','State', 'County'],inplace=True)\n",
    "\n",
    "df.shape, df_test.shape"
   ]
  },
  {
   "cell_type": "code",
   "execution_count": 30,
   "id": "a664b497-858f-4826-a2e8-8736726829fb",
   "metadata": {},
   "outputs": [
    {
     "name": "stdout",
     "output_type": "stream",
     "text": [
      "<class 'pandas.core.frame.DataFrame'>\n",
      "RangeIndex: 558211 entries, 0 to 558210\n",
      "Data columns (total 40 columns):\n",
      " #   Column                                       Non-Null Count   Dtype  \n",
      "---  ------                                       --------------   -----  \n",
      " 0   Provider                                     558211 non-null  object \n",
      " 1   InscClaimAmtReimbursed                       558211 non-null  int64  \n",
      " 2   DeductibleAmtPaid                            557312 non-null  float64\n",
      " 3   Admitted                                     558211 non-null  int64  \n",
      " 4   RenalDiseaseIndicator                        558211 non-null  int64  \n",
      " 5   NoOfMonths_PartACov                          558211 non-null  int64  \n",
      " 6   NoOfMonths_PartBCov                          558211 non-null  int64  \n",
      " 7   ChronicCond_Alzheimer                        558211 non-null  int64  \n",
      " 8   ChronicCond_Heartfailure                     558211 non-null  int64  \n",
      " 9   ChronicCond_KidneyDisease                    558211 non-null  int64  \n",
      " 10  ChronicCond_Cancer                           558211 non-null  int64  \n",
      " 11  ChronicCond_ObstrPulmonary                   558211 non-null  int64  \n",
      " 12  ChronicCond_Depression                       558211 non-null  int64  \n",
      " 13  ChronicCond_Diabetes                         558211 non-null  int64  \n",
      " 14  ChronicCond_IschemicHeart                    558211 non-null  int64  \n",
      " 15  ChronicCond_Osteoporasis                     558211 non-null  int64  \n",
      " 16  ChronicCond_rheumatoidarthritis              558211 non-null  int64  \n",
      " 17  ChronicCond_stroke                           558211 non-null  int64  \n",
      " 18  IPAnnualReimbursementAmt                     558211 non-null  int64  \n",
      " 19  IPAnnualDeductibleAmt                        558211 non-null  int64  \n",
      " 20  OPAnnualReimbursementAmt                     558211 non-null  int64  \n",
      " 21  OPAnnualDeductibleAmt                        558211 non-null  int64  \n",
      " 22  PotentialFraud                               558211 non-null  int64  \n",
      " 23  Claims_days                                  558211 non-null  int64  \n",
      " 24  Age                                          558211 non-null  float64\n",
      " 25  Alive                                        558211 non-null  int64  \n",
      " 26  Admit_days                                   40474 non-null   float64\n",
      " 27  ClmCount_Provider                            558211 non-null  int64  \n",
      " 28  ClmCount_Provider_BeneID                     558211 non-null  int64  \n",
      " 29  ClmCount_Provider_AttendingPhysician         556703 non-null  float64\n",
      " 30  ClmCount_Provider_OtherPhysician             199736 non-null  float64\n",
      " 31  ClmCount_Provider_OperatingPhysician         114447 non-null  float64\n",
      " 32  ClmCount_Provider_ClmAdmitDiagnosisCode      145899 non-null  float64\n",
      " 33  ClmCount_Provider_BeneID_AttendingPhysician  556703 non-null  float64\n",
      " 34  ClmCount_Provider_BeneID_OtherPhysician      199736 non-null  float64\n",
      " 35  ClmCount_Provider_BeneID_OperatingPhysician  114447 non-null  float64\n",
      " 36  Gender_2                                     558211 non-null  bool   \n",
      " 37  Race_2                                       558211 non-null  bool   \n",
      " 38  Race_3                                       558211 non-null  bool   \n",
      " 39  Race_5                                       558211 non-null  bool   \n",
      "dtypes: bool(4), float64(10), int64(25), object(1)\n",
      "memory usage: 155.4+ MB\n"
     ]
    }
   ],
   "source": [
    "df.info()"
   ]
  },
  {
   "cell_type": "code",
   "execution_count": 31,
   "id": "c4e2d1f1-8dff-4af4-8a04-3185ea630325",
   "metadata": {},
   "outputs": [],
   "source": [
    "df.fillna(value=0, inplace=True)\n",
    "df_test.fillna(value=0, inplace=True)"
   ]
  },
  {
   "cell_type": "code",
   "execution_count": 32,
   "id": "9182a1ea-f3fb-47ba-8c96-cd2c3a282924",
   "metadata": {},
   "outputs": [
    {
     "data": {
      "text/plain": [
       "(0, 0)"
      ]
     },
     "execution_count": 32,
     "metadata": {},
     "output_type": "execute_result"
    }
   ],
   "source": [
    "df.isnull().sum().sum(), df_test.isnull().sum().sum()"
   ]
  },
  {
   "cell_type": "code",
   "execution_count": 33,
   "id": "11d7613d-d2db-45c1-b514-4f2b0fc4daf5",
   "metadata": {},
   "outputs": [],
   "source": [
    "df_train = df.groupby(['Provider','PotentialFraud'],as_index=False).agg('sum')\n",
    "df_test_score = df_test.groupby(['Provider'],as_index=False).agg('sum')"
   ]
  },
  {
   "cell_type": "code",
   "execution_count": 34,
   "id": "dea170f0-4643-4ef0-9d6e-ae0d9be1fd51",
   "metadata": {},
   "outputs": [
    {
     "data": {
      "text/plain": [
       "((5410, 40), (1353, 39))"
      ]
     },
     "execution_count": 34,
     "metadata": {},
     "output_type": "execute_result"
    }
   ],
   "source": [
    "df_train.shape, df_test_score.shape"
   ]
  },
  {
   "cell_type": "code",
   "execution_count": 35,
   "id": "85d78789-5b5b-45ee-8d5d-f4909b4396d5",
   "metadata": {},
   "outputs": [
    {
     "data": {
      "text/html": [
       "<div>\n",
       "<style scoped>\n",
       "    .dataframe tbody tr th:only-of-type {\n",
       "        vertical-align: middle;\n",
       "    }\n",
       "\n",
       "    .dataframe tbody tr th {\n",
       "        vertical-align: top;\n",
       "    }\n",
       "\n",
       "    .dataframe thead th {\n",
       "        text-align: right;\n",
       "    }\n",
       "</style>\n",
       "<table border=\"1\" class=\"dataframe\">\n",
       "  <thead>\n",
       "    <tr style=\"text-align: right;\">\n",
       "      <th></th>\n",
       "      <th>Provider</th>\n",
       "      <th>PotentialFraud</th>\n",
       "      <th>InscClaimAmtReimbursed</th>\n",
       "      <th>DeductibleAmtPaid</th>\n",
       "      <th>Admitted</th>\n",
       "      <th>RenalDiseaseIndicator</th>\n",
       "      <th>NoOfMonths_PartACov</th>\n",
       "      <th>NoOfMonths_PartBCov</th>\n",
       "      <th>ChronicCond_Alzheimer</th>\n",
       "      <th>ChronicCond_Heartfailure</th>\n",
       "      <th>...</th>\n",
       "      <th>ClmCount_Provider_OtherPhysician</th>\n",
       "      <th>ClmCount_Provider_OperatingPhysician</th>\n",
       "      <th>ClmCount_Provider_ClmAdmitDiagnosisCode</th>\n",
       "      <th>ClmCount_Provider_BeneID_AttendingPhysician</th>\n",
       "      <th>ClmCount_Provider_BeneID_OtherPhysician</th>\n",
       "      <th>ClmCount_Provider_BeneID_OperatingPhysician</th>\n",
       "      <th>Gender_2</th>\n",
       "      <th>Race_2</th>\n",
       "      <th>Race_3</th>\n",
       "      <th>Race_5</th>\n",
       "    </tr>\n",
       "  </thead>\n",
       "  <tbody>\n",
       "    <tr>\n",
       "      <th>0</th>\n",
       "      <td>PRV51001</td>\n",
       "      <td>0</td>\n",
       "      <td>104640</td>\n",
       "      <td>5340.0</td>\n",
       "      <td>5</td>\n",
       "      <td>8</td>\n",
       "      <td>300</td>\n",
       "      <td>300</td>\n",
       "      <td>35</td>\n",
       "      <td>31</td>\n",
       "      <td>...</td>\n",
       "      <td>14.0</td>\n",
       "      <td>5.0</td>\n",
       "      <td>11.0</td>\n",
       "      <td>25.0</td>\n",
       "      <td>10.0</td>\n",
       "      <td>5.0</td>\n",
       "      <td>16</td>\n",
       "      <td>4</td>\n",
       "      <td>0</td>\n",
       "      <td>0</td>\n",
       "    </tr>\n",
       "    <tr>\n",
       "      <th>1</th>\n",
       "      <td>PRV51003</td>\n",
       "      <td>1</td>\n",
       "      <td>605670</td>\n",
       "      <td>66286.0</td>\n",
       "      <td>62</td>\n",
       "      <td>29</td>\n",
       "      <td>1560</td>\n",
       "      <td>1567</td>\n",
       "      <td>208</td>\n",
       "      <td>184</td>\n",
       "      <td>...</td>\n",
       "      <td>31.0</td>\n",
       "      <td>807.0</td>\n",
       "      <td>144.0</td>\n",
       "      <td>138.0</td>\n",
       "      <td>25.0</td>\n",
       "      <td>45.0</td>\n",
       "      <td>78</td>\n",
       "      <td>24</td>\n",
       "      <td>0</td>\n",
       "      <td>1</td>\n",
       "    </tr>\n",
       "    <tr>\n",
       "      <th>2</th>\n",
       "      <td>PRV51004</td>\n",
       "      <td>0</td>\n",
       "      <td>52170</td>\n",
       "      <td>310.0</td>\n",
       "      <td>0</td>\n",
       "      <td>23</td>\n",
       "      <td>1768</td>\n",
       "      <td>1782</td>\n",
       "      <td>234</td>\n",
       "      <td>210</td>\n",
       "      <td>...</td>\n",
       "      <td>309.0</td>\n",
       "      <td>51.0</td>\n",
       "      <td>34.0</td>\n",
       "      <td>149.0</td>\n",
       "      <td>63.0</td>\n",
       "      <td>27.0</td>\n",
       "      <td>103</td>\n",
       "      <td>24</td>\n",
       "      <td>5</td>\n",
       "      <td>0</td>\n",
       "    </tr>\n",
       "    <tr>\n",
       "      <th>3</th>\n",
       "      <td>PRV51005</td>\n",
       "      <td>1</td>\n",
       "      <td>280910</td>\n",
       "      <td>3700.0</td>\n",
       "      <td>0</td>\n",
       "      <td>259</td>\n",
       "      <td>13872</td>\n",
       "      <td>13910</td>\n",
       "      <td>1904</td>\n",
       "      <td>1650</td>\n",
       "      <td>...</td>\n",
       "      <td>62710.0</td>\n",
       "      <td>9186.0</td>\n",
       "      <td>910.0</td>\n",
       "      <td>2071.0</td>\n",
       "      <td>660.0</td>\n",
       "      <td>264.0</td>\n",
       "      <td>654</td>\n",
       "      <td>262</td>\n",
       "      <td>10</td>\n",
       "      <td>0</td>\n",
       "    </tr>\n",
       "    <tr>\n",
       "      <th>4</th>\n",
       "      <td>PRV51007</td>\n",
       "      <td>0</td>\n",
       "      <td>33710</td>\n",
       "      <td>3264.0</td>\n",
       "      <td>3</td>\n",
       "      <td>11</td>\n",
       "      <td>852</td>\n",
       "      <td>852</td>\n",
       "      <td>118</td>\n",
       "      <td>104</td>\n",
       "      <td>...</td>\n",
       "      <td>192.0</td>\n",
       "      <td>48.0</td>\n",
       "      <td>17.0</td>\n",
       "      <td>82.0</td>\n",
       "      <td>28.0</td>\n",
       "      <td>12.0</td>\n",
       "      <td>38</td>\n",
       "      <td>14</td>\n",
       "      <td>0</td>\n",
       "      <td>0</td>\n",
       "    </tr>\n",
       "  </tbody>\n",
       "</table>\n",
       "<p>5 rows × 40 columns</p>\n",
       "</div>"
      ],
      "text/plain": [
       "   Provider  PotentialFraud  InscClaimAmtReimbursed  DeductibleAmtPaid  \\\n",
       "0  PRV51001               0                  104640             5340.0   \n",
       "1  PRV51003               1                  605670            66286.0   \n",
       "2  PRV51004               0                   52170              310.0   \n",
       "3  PRV51005               1                  280910             3700.0   \n",
       "4  PRV51007               0                   33710             3264.0   \n",
       "\n",
       "   Admitted  RenalDiseaseIndicator  NoOfMonths_PartACov  NoOfMonths_PartBCov  \\\n",
       "0         5                      8                  300                  300   \n",
       "1        62                     29                 1560                 1567   \n",
       "2         0                     23                 1768                 1782   \n",
       "3         0                    259                13872                13910   \n",
       "4         3                     11                  852                  852   \n",
       "\n",
       "   ChronicCond_Alzheimer  ChronicCond_Heartfailure  ...  \\\n",
       "0                     35                        31  ...   \n",
       "1                    208                       184  ...   \n",
       "2                    234                       210  ...   \n",
       "3                   1904                      1650  ...   \n",
       "4                    118                       104  ...   \n",
       "\n",
       "   ClmCount_Provider_OtherPhysician  ClmCount_Provider_OperatingPhysician  \\\n",
       "0                              14.0                                   5.0   \n",
       "1                              31.0                                 807.0   \n",
       "2                             309.0                                  51.0   \n",
       "3                           62710.0                                9186.0   \n",
       "4                             192.0                                  48.0   \n",
       "\n",
       "   ClmCount_Provider_ClmAdmitDiagnosisCode  \\\n",
       "0                                     11.0   \n",
       "1                                    144.0   \n",
       "2                                     34.0   \n",
       "3                                    910.0   \n",
       "4                                     17.0   \n",
       "\n",
       "   ClmCount_Provider_BeneID_AttendingPhysician  \\\n",
       "0                                         25.0   \n",
       "1                                        138.0   \n",
       "2                                        149.0   \n",
       "3                                       2071.0   \n",
       "4                                         82.0   \n",
       "\n",
       "   ClmCount_Provider_BeneID_OtherPhysician  \\\n",
       "0                                     10.0   \n",
       "1                                     25.0   \n",
       "2                                     63.0   \n",
       "3                                    660.0   \n",
       "4                                     28.0   \n",
       "\n",
       "   ClmCount_Provider_BeneID_OperatingPhysician  Gender_2  Race_2  Race_3  \\\n",
       "0                                          5.0        16       4       0   \n",
       "1                                         45.0        78      24       0   \n",
       "2                                         27.0       103      24       5   \n",
       "3                                        264.0       654     262      10   \n",
       "4                                         12.0        38      14       0   \n",
       "\n",
       "   Race_5  \n",
       "0       0  \n",
       "1       1  \n",
       "2       0  \n",
       "3       0  \n",
       "4       0  \n",
       "\n",
       "[5 rows x 40 columns]"
      ]
     },
     "execution_count": 35,
     "metadata": {},
     "output_type": "execute_result"
    }
   ],
   "source": [
    "df_train.head()"
   ]
  },
  {
   "cell_type": "markdown",
   "id": "c592d3d9-7d06-4c24-b6e3-09009da349ef",
   "metadata": {},
   "source": [
    "## Modeling"
   ]
  },
  {
   "cell_type": "code",
   "execution_count": 36,
   "id": "674b1122-cd4b-4f53-8daa-b2575f5003a5",
   "metadata": {},
   "outputs": [
    {
     "name": "stdout",
     "output_type": "stream",
     "text": [
      "(5410, 38) (5410,)\n"
     ]
    },
    {
     "data": {
      "text/plain": [
       "((4328, 38), (1082, 38), (4328,), (1082,))"
      ]
     },
     "execution_count": 36,
     "metadata": {},
     "output_type": "execute_result"
    }
   ],
   "source": [
    "from sklearn.model_selection import train_test_split\n",
    "X = df_train.drop(columns = ['PotentialFraud','Provider'])\n",
    "y = df_train['PotentialFraud']\n",
    "print(X.shape,y.shape)\n",
    "X_train, X_val, y_train, y_val = train_test_split(X, y, test_size=0.20, random_state=42, stratify = y) \n",
    "X_train.shape, X_val.shape, y_train.shape, y_val.shape"
   ]
  },
  {
   "cell_type": "code",
   "execution_count": 37,
   "id": "b52f8829-472f-4714-979d-43d8bbc17a47",
   "metadata": {},
   "outputs": [
    {
     "data": {
      "text/plain": [
       "PotentialFraud\n",
       "0    3923\n",
       "1     405\n",
       "Name: count, dtype: int64"
      ]
     },
     "execution_count": 37,
     "metadata": {},
     "output_type": "execute_result"
    }
   ],
   "source": [
    "y_train.value_counts()"
   ]
  },
  {
   "cell_type": "code",
   "execution_count": 38,
   "id": "6e21f79b-9137-4476-adb0-ea7a3f3ade65",
   "metadata": {},
   "outputs": [
    {
     "data": {
      "text/plain": [
       "PotentialFraud\n",
       "0    981\n",
       "1    101\n",
       "Name: count, dtype: int64"
      ]
     },
     "execution_count": 38,
     "metadata": {},
     "output_type": "execute_result"
    }
   ],
   "source": [
    "y_val.value_counts()"
   ]
  },
  {
   "cell_type": "code",
   "execution_count": 39,
   "id": "10d2ff14-f848-4cc8-b8f3-48471fb4e918",
   "metadata": {},
   "outputs": [
    {
     "data": {
      "text/html": [
       "<style>#sk-container-id-1 {\n",
       "  /* Definition of color scheme common for light and dark mode */\n",
       "  --sklearn-color-text: black;\n",
       "  --sklearn-color-line: gray;\n",
       "  /* Definition of color scheme for unfitted estimators */\n",
       "  --sklearn-color-unfitted-level-0: #fff5e6;\n",
       "  --sklearn-color-unfitted-level-1: #f6e4d2;\n",
       "  --sklearn-color-unfitted-level-2: #ffe0b3;\n",
       "  --sklearn-color-unfitted-level-3: chocolate;\n",
       "  /* Definition of color scheme for fitted estimators */\n",
       "  --sklearn-color-fitted-level-0: #f0f8ff;\n",
       "  --sklearn-color-fitted-level-1: #d4ebff;\n",
       "  --sklearn-color-fitted-level-2: #b3dbfd;\n",
       "  --sklearn-color-fitted-level-3: cornflowerblue;\n",
       "\n",
       "  /* Specific color for light theme */\n",
       "  --sklearn-color-text-on-default-background: var(--sg-text-color, var(--theme-code-foreground, var(--jp-content-font-color1, black)));\n",
       "  --sklearn-color-background: var(--sg-background-color, var(--theme-background, var(--jp-layout-color0, white)));\n",
       "  --sklearn-color-border-box: var(--sg-text-color, var(--theme-code-foreground, var(--jp-content-font-color1, black)));\n",
       "  --sklearn-color-icon: #696969;\n",
       "\n",
       "  @media (prefers-color-scheme: dark) {\n",
       "    /* Redefinition of color scheme for dark theme */\n",
       "    --sklearn-color-text-on-default-background: var(--sg-text-color, var(--theme-code-foreground, var(--jp-content-font-color1, white)));\n",
       "    --sklearn-color-background: var(--sg-background-color, var(--theme-background, var(--jp-layout-color0, #111)));\n",
       "    --sklearn-color-border-box: var(--sg-text-color, var(--theme-code-foreground, var(--jp-content-font-color1, white)));\n",
       "    --sklearn-color-icon: #878787;\n",
       "  }\n",
       "}\n",
       "\n",
       "#sk-container-id-1 {\n",
       "  color: var(--sklearn-color-text);\n",
       "}\n",
       "\n",
       "#sk-container-id-1 pre {\n",
       "  padding: 0;\n",
       "}\n",
       "\n",
       "#sk-container-id-1 input.sk-hidden--visually {\n",
       "  border: 0;\n",
       "  clip: rect(1px 1px 1px 1px);\n",
       "  clip: rect(1px, 1px, 1px, 1px);\n",
       "  height: 1px;\n",
       "  margin: -1px;\n",
       "  overflow: hidden;\n",
       "  padding: 0;\n",
       "  position: absolute;\n",
       "  width: 1px;\n",
       "}\n",
       "\n",
       "#sk-container-id-1 div.sk-dashed-wrapped {\n",
       "  border: 1px dashed var(--sklearn-color-line);\n",
       "  margin: 0 0.4em 0.5em 0.4em;\n",
       "  box-sizing: border-box;\n",
       "  padding-bottom: 0.4em;\n",
       "  background-color: var(--sklearn-color-background);\n",
       "}\n",
       "\n",
       "#sk-container-id-1 div.sk-container {\n",
       "  /* jupyter's `normalize.less` sets `[hidden] { display: none; }`\n",
       "     but bootstrap.min.css set `[hidden] { display: none !important; }`\n",
       "     so we also need the `!important` here to be able to override the\n",
       "     default hidden behavior on the sphinx rendered scikit-learn.org.\n",
       "     See: https://github.com/scikit-learn/scikit-learn/issues/21755 */\n",
       "  display: inline-block !important;\n",
       "  position: relative;\n",
       "}\n",
       "\n",
       "#sk-container-id-1 div.sk-text-repr-fallback {\n",
       "  display: none;\n",
       "}\n",
       "\n",
       "div.sk-parallel-item,\n",
       "div.sk-serial,\n",
       "div.sk-item {\n",
       "  /* draw centered vertical line to link estimators */\n",
       "  background-image: linear-gradient(var(--sklearn-color-text-on-default-background), var(--sklearn-color-text-on-default-background));\n",
       "  background-size: 2px 100%;\n",
       "  background-repeat: no-repeat;\n",
       "  background-position: center center;\n",
       "}\n",
       "\n",
       "/* Parallel-specific style estimator block */\n",
       "\n",
       "#sk-container-id-1 div.sk-parallel-item::after {\n",
       "  content: \"\";\n",
       "  width: 100%;\n",
       "  border-bottom: 2px solid var(--sklearn-color-text-on-default-background);\n",
       "  flex-grow: 1;\n",
       "}\n",
       "\n",
       "#sk-container-id-1 div.sk-parallel {\n",
       "  display: flex;\n",
       "  align-items: stretch;\n",
       "  justify-content: center;\n",
       "  background-color: var(--sklearn-color-background);\n",
       "  position: relative;\n",
       "}\n",
       "\n",
       "#sk-container-id-1 div.sk-parallel-item {\n",
       "  display: flex;\n",
       "  flex-direction: column;\n",
       "}\n",
       "\n",
       "#sk-container-id-1 div.sk-parallel-item:first-child::after {\n",
       "  align-self: flex-end;\n",
       "  width: 50%;\n",
       "}\n",
       "\n",
       "#sk-container-id-1 div.sk-parallel-item:last-child::after {\n",
       "  align-self: flex-start;\n",
       "  width: 50%;\n",
       "}\n",
       "\n",
       "#sk-container-id-1 div.sk-parallel-item:only-child::after {\n",
       "  width: 0;\n",
       "}\n",
       "\n",
       "/* Serial-specific style estimator block */\n",
       "\n",
       "#sk-container-id-1 div.sk-serial {\n",
       "  display: flex;\n",
       "  flex-direction: column;\n",
       "  align-items: center;\n",
       "  background-color: var(--sklearn-color-background);\n",
       "  padding-right: 1em;\n",
       "  padding-left: 1em;\n",
       "}\n",
       "\n",
       "\n",
       "/* Toggleable style: style used for estimator/Pipeline/ColumnTransformer box that is\n",
       "clickable and can be expanded/collapsed.\n",
       "- Pipeline and ColumnTransformer use this feature and define the default style\n",
       "- Estimators will overwrite some part of the style using the `sk-estimator` class\n",
       "*/\n",
       "\n",
       "/* Pipeline and ColumnTransformer style (default) */\n",
       "\n",
       "#sk-container-id-1 div.sk-toggleable {\n",
       "  /* Default theme specific background. It is overwritten whether we have a\n",
       "  specific estimator or a Pipeline/ColumnTransformer */\n",
       "  background-color: var(--sklearn-color-background);\n",
       "}\n",
       "\n",
       "/* Toggleable label */\n",
       "#sk-container-id-1 label.sk-toggleable__label {\n",
       "  cursor: pointer;\n",
       "  display: block;\n",
       "  width: 100%;\n",
       "  margin-bottom: 0;\n",
       "  padding: 0.5em;\n",
       "  box-sizing: border-box;\n",
       "  text-align: center;\n",
       "}\n",
       "\n",
       "#sk-container-id-1 label.sk-toggleable__label-arrow:before {\n",
       "  /* Arrow on the left of the label */\n",
       "  content: \"▸\";\n",
       "  float: left;\n",
       "  margin-right: 0.25em;\n",
       "  color: var(--sklearn-color-icon);\n",
       "}\n",
       "\n",
       "#sk-container-id-1 label.sk-toggleable__label-arrow:hover:before {\n",
       "  color: var(--sklearn-color-text);\n",
       "}\n",
       "\n",
       "/* Toggleable content - dropdown */\n",
       "\n",
       "#sk-container-id-1 div.sk-toggleable__content {\n",
       "  max-height: 0;\n",
       "  max-width: 0;\n",
       "  overflow: hidden;\n",
       "  text-align: left;\n",
       "  /* unfitted */\n",
       "  background-color: var(--sklearn-color-unfitted-level-0);\n",
       "}\n",
       "\n",
       "#sk-container-id-1 div.sk-toggleable__content.fitted {\n",
       "  /* fitted */\n",
       "  background-color: var(--sklearn-color-fitted-level-0);\n",
       "}\n",
       "\n",
       "#sk-container-id-1 div.sk-toggleable__content pre {\n",
       "  margin: 0.2em;\n",
       "  border-radius: 0.25em;\n",
       "  color: var(--sklearn-color-text);\n",
       "  /* unfitted */\n",
       "  background-color: var(--sklearn-color-unfitted-level-0);\n",
       "}\n",
       "\n",
       "#sk-container-id-1 div.sk-toggleable__content.fitted pre {\n",
       "  /* unfitted */\n",
       "  background-color: var(--sklearn-color-fitted-level-0);\n",
       "}\n",
       "\n",
       "#sk-container-id-1 input.sk-toggleable__control:checked~div.sk-toggleable__content {\n",
       "  /* Expand drop-down */\n",
       "  max-height: 200px;\n",
       "  max-width: 100%;\n",
       "  overflow: auto;\n",
       "}\n",
       "\n",
       "#sk-container-id-1 input.sk-toggleable__control:checked~label.sk-toggleable__label-arrow:before {\n",
       "  content: \"▾\";\n",
       "}\n",
       "\n",
       "/* Pipeline/ColumnTransformer-specific style */\n",
       "\n",
       "#sk-container-id-1 div.sk-label input.sk-toggleable__control:checked~label.sk-toggleable__label {\n",
       "  color: var(--sklearn-color-text);\n",
       "  background-color: var(--sklearn-color-unfitted-level-2);\n",
       "}\n",
       "\n",
       "#sk-container-id-1 div.sk-label.fitted input.sk-toggleable__control:checked~label.sk-toggleable__label {\n",
       "  background-color: var(--sklearn-color-fitted-level-2);\n",
       "}\n",
       "\n",
       "/* Estimator-specific style */\n",
       "\n",
       "/* Colorize estimator box */\n",
       "#sk-container-id-1 div.sk-estimator input.sk-toggleable__control:checked~label.sk-toggleable__label {\n",
       "  /* unfitted */\n",
       "  background-color: var(--sklearn-color-unfitted-level-2);\n",
       "}\n",
       "\n",
       "#sk-container-id-1 div.sk-estimator.fitted input.sk-toggleable__control:checked~label.sk-toggleable__label {\n",
       "  /* fitted */\n",
       "  background-color: var(--sklearn-color-fitted-level-2);\n",
       "}\n",
       "\n",
       "#sk-container-id-1 div.sk-label label.sk-toggleable__label,\n",
       "#sk-container-id-1 div.sk-label label {\n",
       "  /* The background is the default theme color */\n",
       "  color: var(--sklearn-color-text-on-default-background);\n",
       "}\n",
       "\n",
       "/* On hover, darken the color of the background */\n",
       "#sk-container-id-1 div.sk-label:hover label.sk-toggleable__label {\n",
       "  color: var(--sklearn-color-text);\n",
       "  background-color: var(--sklearn-color-unfitted-level-2);\n",
       "}\n",
       "\n",
       "/* Label box, darken color on hover, fitted */\n",
       "#sk-container-id-1 div.sk-label.fitted:hover label.sk-toggleable__label.fitted {\n",
       "  color: var(--sklearn-color-text);\n",
       "  background-color: var(--sklearn-color-fitted-level-2);\n",
       "}\n",
       "\n",
       "/* Estimator label */\n",
       "\n",
       "#sk-container-id-1 div.sk-label label {\n",
       "  font-family: monospace;\n",
       "  font-weight: bold;\n",
       "  display: inline-block;\n",
       "  line-height: 1.2em;\n",
       "}\n",
       "\n",
       "#sk-container-id-1 div.sk-label-container {\n",
       "  text-align: center;\n",
       "}\n",
       "\n",
       "/* Estimator-specific */\n",
       "#sk-container-id-1 div.sk-estimator {\n",
       "  font-family: monospace;\n",
       "  border: 1px dotted var(--sklearn-color-border-box);\n",
       "  border-radius: 0.25em;\n",
       "  box-sizing: border-box;\n",
       "  margin-bottom: 0.5em;\n",
       "  /* unfitted */\n",
       "  background-color: var(--sklearn-color-unfitted-level-0);\n",
       "}\n",
       "\n",
       "#sk-container-id-1 div.sk-estimator.fitted {\n",
       "  /* fitted */\n",
       "  background-color: var(--sklearn-color-fitted-level-0);\n",
       "}\n",
       "\n",
       "/* on hover */\n",
       "#sk-container-id-1 div.sk-estimator:hover {\n",
       "  /* unfitted */\n",
       "  background-color: var(--sklearn-color-unfitted-level-2);\n",
       "}\n",
       "\n",
       "#sk-container-id-1 div.sk-estimator.fitted:hover {\n",
       "  /* fitted */\n",
       "  background-color: var(--sklearn-color-fitted-level-2);\n",
       "}\n",
       "\n",
       "/* Specification for estimator info (e.g. \"i\" and \"?\") */\n",
       "\n",
       "/* Common style for \"i\" and \"?\" */\n",
       "\n",
       ".sk-estimator-doc-link,\n",
       "a:link.sk-estimator-doc-link,\n",
       "a:visited.sk-estimator-doc-link {\n",
       "  float: right;\n",
       "  font-size: smaller;\n",
       "  line-height: 1em;\n",
       "  font-family: monospace;\n",
       "  background-color: var(--sklearn-color-background);\n",
       "  border-radius: 1em;\n",
       "  height: 1em;\n",
       "  width: 1em;\n",
       "  text-decoration: none !important;\n",
       "  margin-left: 1ex;\n",
       "  /* unfitted */\n",
       "  border: var(--sklearn-color-unfitted-level-1) 1pt solid;\n",
       "  color: var(--sklearn-color-unfitted-level-1);\n",
       "}\n",
       "\n",
       ".sk-estimator-doc-link.fitted,\n",
       "a:link.sk-estimator-doc-link.fitted,\n",
       "a:visited.sk-estimator-doc-link.fitted {\n",
       "  /* fitted */\n",
       "  border: var(--sklearn-color-fitted-level-1) 1pt solid;\n",
       "  color: var(--sklearn-color-fitted-level-1);\n",
       "}\n",
       "\n",
       "/* On hover */\n",
       "div.sk-estimator:hover .sk-estimator-doc-link:hover,\n",
       ".sk-estimator-doc-link:hover,\n",
       "div.sk-label-container:hover .sk-estimator-doc-link:hover,\n",
       ".sk-estimator-doc-link:hover {\n",
       "  /* unfitted */\n",
       "  background-color: var(--sklearn-color-unfitted-level-3);\n",
       "  color: var(--sklearn-color-background);\n",
       "  text-decoration: none;\n",
       "}\n",
       "\n",
       "div.sk-estimator.fitted:hover .sk-estimator-doc-link.fitted:hover,\n",
       ".sk-estimator-doc-link.fitted:hover,\n",
       "div.sk-label-container:hover .sk-estimator-doc-link.fitted:hover,\n",
       ".sk-estimator-doc-link.fitted:hover {\n",
       "  /* fitted */\n",
       "  background-color: var(--sklearn-color-fitted-level-3);\n",
       "  color: var(--sklearn-color-background);\n",
       "  text-decoration: none;\n",
       "}\n",
       "\n",
       "/* Span, style for the box shown on hovering the info icon */\n",
       ".sk-estimator-doc-link span {\n",
       "  display: none;\n",
       "  z-index: 9999;\n",
       "  position: relative;\n",
       "  font-weight: normal;\n",
       "  right: .2ex;\n",
       "  padding: .5ex;\n",
       "  margin: .5ex;\n",
       "  width: min-content;\n",
       "  min-width: 20ex;\n",
       "  max-width: 50ex;\n",
       "  color: var(--sklearn-color-text);\n",
       "  box-shadow: 2pt 2pt 4pt #999;\n",
       "  /* unfitted */\n",
       "  background: var(--sklearn-color-unfitted-level-0);\n",
       "  border: .5pt solid var(--sklearn-color-unfitted-level-3);\n",
       "}\n",
       "\n",
       ".sk-estimator-doc-link.fitted span {\n",
       "  /* fitted */\n",
       "  background: var(--sklearn-color-fitted-level-0);\n",
       "  border: var(--sklearn-color-fitted-level-3);\n",
       "}\n",
       "\n",
       ".sk-estimator-doc-link:hover span {\n",
       "  display: block;\n",
       "}\n",
       "\n",
       "/* \"?\"-specific style due to the `<a>` HTML tag */\n",
       "\n",
       "#sk-container-id-1 a.estimator_doc_link {\n",
       "  float: right;\n",
       "  font-size: 1rem;\n",
       "  line-height: 1em;\n",
       "  font-family: monospace;\n",
       "  background-color: var(--sklearn-color-background);\n",
       "  border-radius: 1rem;\n",
       "  height: 1rem;\n",
       "  width: 1rem;\n",
       "  text-decoration: none;\n",
       "  /* unfitted */\n",
       "  color: var(--sklearn-color-unfitted-level-1);\n",
       "  border: var(--sklearn-color-unfitted-level-1) 1pt solid;\n",
       "}\n",
       "\n",
       "#sk-container-id-1 a.estimator_doc_link.fitted {\n",
       "  /* fitted */\n",
       "  border: var(--sklearn-color-fitted-level-1) 1pt solid;\n",
       "  color: var(--sklearn-color-fitted-level-1);\n",
       "}\n",
       "\n",
       "/* On hover */\n",
       "#sk-container-id-1 a.estimator_doc_link:hover {\n",
       "  /* unfitted */\n",
       "  background-color: var(--sklearn-color-unfitted-level-3);\n",
       "  color: var(--sklearn-color-background);\n",
       "  text-decoration: none;\n",
       "}\n",
       "\n",
       "#sk-container-id-1 a.estimator_doc_link.fitted:hover {\n",
       "  /* fitted */\n",
       "  background-color: var(--sklearn-color-fitted-level-3);\n",
       "}\n",
       "</style><div id=\"sk-container-id-1\" class=\"sk-top-container\"><div class=\"sk-text-repr-fallback\"><pre>RandomForestClassifier(class_weight=&#x27;balanced&#x27;, n_jobs=-1, random_state=42)</pre><b>In a Jupyter environment, please rerun this cell to show the HTML representation or trust the notebook. <br />On GitHub, the HTML representation is unable to render, please try loading this page with nbviewer.org.</b></div><div class=\"sk-container\" hidden><div class=\"sk-item\"><div class=\"sk-estimator fitted sk-toggleable\"><input class=\"sk-toggleable__control sk-hidden--visually\" id=\"sk-estimator-id-1\" type=\"checkbox\" checked><label for=\"sk-estimator-id-1\" class=\"sk-toggleable__label fitted sk-toggleable__label-arrow fitted\">&nbsp;&nbsp;RandomForestClassifier<a class=\"sk-estimator-doc-link fitted\" rel=\"noreferrer\" target=\"_blank\" href=\"https://scikit-learn.org/1.4/modules/generated/sklearn.ensemble.RandomForestClassifier.html\">?<span>Documentation for RandomForestClassifier</span></a><span class=\"sk-estimator-doc-link fitted\">i<span>Fitted</span></span></label><div class=\"sk-toggleable__content fitted\"><pre>RandomForestClassifier(class_weight=&#x27;balanced&#x27;, n_jobs=-1, random_state=42)</pre></div> </div></div></div></div>"
      ],
      "text/plain": [
       "RandomForestClassifier(class_weight='balanced', n_jobs=-1, random_state=42)"
      ]
     },
     "execution_count": 39,
     "metadata": {},
     "output_type": "execute_result"
    }
   ],
   "source": [
    "from sklearn.ensemble import RandomForestClassifier\n",
    "rf = RandomForestClassifier(random_state=42, class_weight='balanced',n_jobs=-1)\n",
    "rf.fit(X_train,y_train)"
   ]
  },
  {
   "cell_type": "code",
   "execution_count": 40,
   "id": "da411f3c-9240-4ef9-9ec8-ea443a8b5501",
   "metadata": {},
   "outputs": [
    {
     "name": "stdout",
     "output_type": "stream",
     "text": [
      "              precision    recall  f1-score   support\n",
      "\n",
      "           0       0.95      0.98      0.97       981\n",
      "           1       0.75      0.54      0.63       101\n",
      "\n",
      "    accuracy                           0.94      1082\n",
      "   macro avg       0.85      0.76      0.80      1082\n",
      "weighted avg       0.94      0.94      0.94      1082\n",
      "\n",
      "val_roc: 0.9589426832591517\n",
      "train_roc: 1.0\n",
      "val_prc: 0.7608312364399106\n",
      "train_prc: 1.0\n"
     ]
    }
   ],
   "source": [
    "from sklearn.metrics import roc_auc_score, classification_report, average_precision_score\n",
    "y_pred = rf.predict(X_val)\n",
    "print(classification_report(y_val, y_pred))\n",
    "y_pred_val = rf.predict_proba(X_val)[:,1]\n",
    "y_pred_tr = rf.predict_proba(X_train)[:,1]\n",
    "print('val_roc:',roc_auc_score(y_val,y_pred_val))\n",
    "print('train_roc:',roc_auc_score(y_train,y_pred_tr))\n",
    "print('val_prc:',average_precision_score(y_val,y_pred_val))\n",
    "print('train_prc:',average_precision_score(y_train,y_pred_tr))"
   ]
  },
  {
   "cell_type": "code",
   "execution_count": 41,
   "id": "73a02268-ec5e-45e6-92ea-ffb21468e373",
   "metadata": {},
   "outputs": [
    {
     "data": {
      "text/html": [
       "<div>\n",
       "<style scoped>\n",
       "    .dataframe tbody tr th:only-of-type {\n",
       "        vertical-align: middle;\n",
       "    }\n",
       "\n",
       "    .dataframe tbody tr th {\n",
       "        vertical-align: top;\n",
       "    }\n",
       "\n",
       "    .dataframe thead th {\n",
       "        text-align: right;\n",
       "    }\n",
       "</style>\n",
       "<table border=\"1\" class=\"dataframe\">\n",
       "  <thead>\n",
       "    <tr style=\"text-align: right;\">\n",
       "      <th></th>\n",
       "      <th>val_AUROC</th>\n",
       "      <th>train_AUROC</th>\n",
       "    </tr>\n",
       "  </thead>\n",
       "  <tbody>\n",
       "    <tr>\n",
       "      <th>0</th>\n",
       "      <td>0.937290</td>\n",
       "      <td>0.997052</td>\n",
       "    </tr>\n",
       "    <tr>\n",
       "      <th>1</th>\n",
       "      <td>0.939374</td>\n",
       "      <td>0.960108</td>\n",
       "    </tr>\n",
       "    <tr>\n",
       "      <th>2</th>\n",
       "      <td>0.938774</td>\n",
       "      <td>0.958623</td>\n",
       "    </tr>\n",
       "    <tr>\n",
       "      <th>3</th>\n",
       "      <td>0.939181</td>\n",
       "      <td>0.997697</td>\n",
       "    </tr>\n",
       "    <tr>\n",
       "      <th>4</th>\n",
       "      <td>0.938909</td>\n",
       "      <td>0.958706</td>\n",
       "    </tr>\n",
       "    <tr>\n",
       "      <th>5</th>\n",
       "      <td>0.937862</td>\n",
       "      <td>0.999032</td>\n",
       "    </tr>\n",
       "    <tr>\n",
       "      <th>6</th>\n",
       "      <td>0.938877</td>\n",
       "      <td>0.959885</td>\n",
       "    </tr>\n",
       "    <tr>\n",
       "      <th>7</th>\n",
       "      <td>0.937922</td>\n",
       "      <td>0.997514</td>\n",
       "    </tr>\n",
       "    <tr>\n",
       "      <th>8</th>\n",
       "      <td>0.938711</td>\n",
       "      <td>0.960408</td>\n",
       "    </tr>\n",
       "    <tr>\n",
       "      <th>9</th>\n",
       "      <td>0.939132</td>\n",
       "      <td>0.959562</td>\n",
       "    </tr>\n",
       "  </tbody>\n",
       "</table>\n",
       "</div>"
      ],
      "text/plain": [
       "   val_AUROC  train_AUROC\n",
       "0   0.937290     0.997052\n",
       "1   0.939374     0.960108\n",
       "2   0.938774     0.958623\n",
       "3   0.939181     0.997697\n",
       "4   0.938909     0.958706\n",
       "5   0.937862     0.999032\n",
       "6   0.938877     0.959885\n",
       "7   0.937922     0.997514\n",
       "8   0.938711     0.960408\n",
       "9   0.939132     0.959562"
      ]
     },
     "execution_count": 41,
     "metadata": {},
     "output_type": "execute_result"
    }
   ],
   "source": [
    "from sklearn.model_selection import RandomizedSearchCV\n",
    "param_dist = {'n_estimators': [50, 100, 200],\n",
    "    'max_depth': [5,10,15],\n",
    "    'min_samples_split': [2, 5, 10],\n",
    "    'min_samples_leaf': [1, 2, 4]}\n",
    "\n",
    "rf = RandomForestClassifier(random_state=42,n_jobs=-1)\n",
    "random_search = RandomizedSearchCV(rf, param_distributions=param_dist, n_iter=10, \n",
    "                                   scoring='roc_auc',n_jobs=-1, cv=5, random_state=42,return_train_score=True)\n",
    "random_search.fit(X, y)\n",
    "\n",
    "pd.DataFrame({'val_AUROC':random_search.cv_results_['mean_test_score'],\n",
    "              'train_AUROC':random_search.cv_results_['mean_train_score']})"
   ]
  },
  {
   "cell_type": "code",
   "execution_count": 42,
   "id": "44839981-64ad-403e-b41c-6574e68e59c8",
   "metadata": {},
   "outputs": [
    {
     "data": {
      "text/plain": [
       "{'n_estimators': 100,\n",
       " 'min_samples_split': 10,\n",
       " 'min_samples_leaf': 2,\n",
       " 'max_depth': 15}"
      ]
     },
     "execution_count": 42,
     "metadata": {},
     "output_type": "execute_result"
    }
   ],
   "source": [
    "random_search.cv_results_['params'][7]"
   ]
  },
  {
   "cell_type": "code",
   "execution_count": 43,
   "id": "88257dfe-4fe5-4e1c-8d66-a071a6eac076",
   "metadata": {},
   "outputs": [
    {
     "name": "stdout",
     "output_type": "stream",
     "text": [
      "              precision    recall  f1-score   support\n",
      "\n",
      "           0       0.95      0.98      0.97       981\n",
      "           1       0.75      0.54      0.63       101\n",
      "\n",
      "    accuracy                           0.94      1082\n",
      "   macro avg       0.85      0.76      0.80      1082\n",
      "weighted avg       0.94      0.94      0.94      1082\n",
      "\n",
      "val_roc: 0.9608703989665023\n",
      "train_roc: 0.9991584923354827\n",
      "val_prc: 0.7644184297559753\n",
      "train_prc: 0.9927263715461165\n"
     ]
    }
   ],
   "source": [
    "rf_opt = RandomForestClassifier(**random_search.cv_results_['params'][5])\n",
    "rf_opt.fit(X_train,y_train)\n",
    "print(classification_report(y_val, y_pred))\n",
    "y_pred_val = rf_opt.predict_proba(X_val)[:,1]\n",
    "y_pred_tr = rf_opt.predict_proba(X_train)[:,1]\n",
    "print('val_roc:',roc_auc_score(y_val,y_pred_val))\n",
    "print('train_roc:',roc_auc_score(y_train,y_pred_tr))\n",
    "print('val_prc:',average_precision_score(y_val,y_pred_val))\n",
    "print('train_prc:',average_precision_score(y_train,y_pred_tr))"
   ]
  },
  {
   "cell_type": "code",
   "execution_count": 44,
   "id": "4422eed7-09b7-4099-9b61-f605433ff02d",
   "metadata": {},
   "outputs": [
    {
     "data": {
      "image/png": "[encoded data removed]",
      "text/plain": [
       "<Figure size 2500x400 with 10 Axes>"
      ]
     },
     "metadata": {},
     "output_type": "display_data"
    }
   ],
   "source": [
    "from sklearn.metrics import ConfusionMatrixDisplay, confusion_matrix\n",
    "threshold = [0.25,0.3,0.4,0.5,0.65]\n",
    "fig, axes = plt.subplots(nrows=1, ncols=len(threshold), figsize=(25, 4), squeeze=True)\n",
    "for i in range(len(threshold)):\n",
    "    y_pred_th = (y_pred_val>threshold[i]).astype('float')\n",
    "    conf_mat = confusion_matrix(y_val, y_pred_th)\n",
    "    ConfusionMatrixDisplay(conf_mat).plot(ax = axes[i])"
   ]
  },
  {
   "cell_type": "code",
   "execution_count": 45,
   "id": "fa267fb0-fce8-45e4-a86b-e9de6dec8357",
   "metadata": {},
   "outputs": [
    {
     "data": {
      "image/png": "[encoded data removed]",
      "text/plain": [
       "<Figure size 2500x400 with 12 Axes>"
      ]
     },
     "metadata": {},
     "output_type": "display_data"
    }
   ],
   "source": [
    "threshold = [0.27,0.28,0.29,0.3,0.31,0.32]\n",
    "fig, axes = plt.subplots(nrows=1, ncols=len(threshold), figsize=(25, 4), squeeze=True)\n",
    "for i in range(len(threshold)):\n",
    "    y_pred_th = (y_pred_val>threshold[i]).astype('float')\n",
    "    conf_mat = confusion_matrix(y_val, y_pred_th)\n",
    "    ConfusionMatrixDisplay(conf_mat).plot(ax = axes[i])"
   ]
  },
  {
   "cell_type": "markdown",
   "id": "204cbfae-c5fb-49c2-8679-5bb55f22f554",
   "metadata": {},
   "source": [
    "## Scoring Test Data"
   ]
  },
  {
   "cell_type": "code",
   "execution_count": 46,
   "id": "096a2627-5c18-463a-bdcb-c3019f2f2023",
   "metadata": {},
   "outputs": [],
   "source": [
    "X_test = df_test_score.drop(columns = 'Provider')\n",
    "y_pred = rf_opt.predict_proba(X_test)[:,1]\n",
    "df_test_score['y_pred'] = (y_pred>0.3).astype('float')\n",
    "df_test_score[['Provider','y_pred']].to_csv('test_score.csv',index=False)"
   ]
  },
  {
   "cell_type": "code",
   "execution_count": null,
   "id": "bf2ee1a9-d99f-4eeb-8f05-0dd36ef5bbbf",
   "metadata": {},
   "outputs": [],
   "source": []
  }
 ],
 "metadata": {
  "kernelspec": {
   "display_name": "arya",
   "language": "python",
   "name": "arya"
  },
  "language_info": {
   "codemirror_mode": {
    "name": "ipython",
    "version": 3
   },
   "file_extension": ".py",
   "mimetype": "text/x-python",
   "name": "python",
   "nbconvert_exporter": "python",
   "pygments_lexer": "ipython3",
   "version": "3.12.2"
  }
 },
 "nbformat": 4,
 "nbformat_minor": 5
}
